{
 "cells": [
  {
   "cell_type": "markdown",
   "id": "77081eaf",
   "metadata": {},
   "source": [
    "## Special Methods"
   ]
  },
  {
   "cell_type": "code",
   "execution_count": 1,
   "id": "2c0c9439",
   "metadata": {},
   "outputs": [],
   "source": [
    "class Fruit():\n",
    "    def __init__(self, name, kcal):\n",
    "        self.name = name\n",
    "        self.kcal = kcal"
   ]
  },
  {
   "cell_type": "code",
   "execution_count": 2,
   "id": "43e296a0",
   "metadata": {},
   "outputs": [],
   "source": [
    "banana = Fruit(\"Banana\", 300)"
   ]
  },
  {
   "cell_type": "code",
   "execution_count": 3,
   "id": "27a5dcaf",
   "metadata": {},
   "outputs": [
    {
     "data": {
      "text/plain": [
       "300"
      ]
     },
     "execution_count": 3,
     "metadata": {},
     "output_type": "execute_result"
    }
   ],
   "source": [
    "banana.kcal"
   ]
  },
  {
   "cell_type": "code",
   "execution_count": 4,
   "id": "4b54dd09",
   "metadata": {},
   "outputs": [
    {
     "name": "stdout",
     "output_type": "stream",
     "text": [
      "<__main__.Fruit object at 0x00000147AE1DF8E0>\n"
     ]
    }
   ],
   "source": [
    "print(banana)"
   ]
  },
  {
   "cell_type": "code",
   "execution_count": 5,
   "id": "d818806b",
   "metadata": {},
   "outputs": [],
   "source": [
    "myList = [1, 2, 3, \"a\", 3.2]"
   ]
  },
  {
   "cell_type": "code",
   "execution_count": 6,
   "id": "0a2aa93b",
   "metadata": {},
   "outputs": [
    {
     "data": {
      "text/plain": [
       "5"
      ]
     },
     "execution_count": 6,
     "metadata": {},
     "output_type": "execute_result"
    }
   ],
   "source": [
    "len(myList)"
   ]
  },
  {
   "cell_type": "code",
   "execution_count": 7,
   "id": "2d8f5d70",
   "metadata": {},
   "outputs": [
    {
     "ename": "TypeError",
     "evalue": "object of type 'Fruit' has no len()",
     "output_type": "error",
     "traceback": [
      "\u001b[1;31m---------------------------------------------------------------------------\u001b[0m",
      "\u001b[1;31mTypeError\u001b[0m                                 Traceback (most recent call last)",
      "Input \u001b[1;32mIn [7]\u001b[0m, in \u001b[0;36m<cell line: 1>\u001b[1;34m()\u001b[0m\n\u001b[1;32m----> 1\u001b[0m \u001b[38;5;28;43mlen\u001b[39;49m\u001b[43m(\u001b[49m\u001b[43mbanana\u001b[49m\u001b[43m)\u001b[49m\n",
      "\u001b[1;31mTypeError\u001b[0m: object of type 'Fruit' has no len()"
     ]
    }
   ],
   "source": [
    "len(banana)"
   ]
  },
  {
   "cell_type": "code",
   "execution_count": 8,
   "id": "91f1ab82",
   "metadata": {},
   "outputs": [],
   "source": [
    "class Fruit():\n",
    "    def __init__(self, name, kcal):\n",
    "        self.name = name\n",
    "        self.kcal = kcal\n",
    "    def __str__(self):\n",
    "        return f\"{self.name} has got {self.kcal} kilocalories\"\n",
    "    def __len__(self):\n",
    "        return self.kcal"
   ]
  },
  {
   "cell_type": "code",
   "execution_count": 9,
   "id": "b5afe8ec",
   "metadata": {},
   "outputs": [],
   "source": [
    "banana = Fruit(\"Banana\", 300)"
   ]
  },
  {
   "cell_type": "code",
   "execution_count": 10,
   "id": "dc91eee3",
   "metadata": {},
   "outputs": [
    {
     "data": {
      "text/plain": [
       "300"
      ]
     },
     "execution_count": 10,
     "metadata": {},
     "output_type": "execute_result"
    }
   ],
   "source": [
    "len(banana)"
   ]
  },
  {
   "cell_type": "code",
   "execution_count": 11,
   "id": "f6d46d99",
   "metadata": {},
   "outputs": [
    {
     "name": "stdout",
     "output_type": "stream",
     "text": [
      "Banana has got 300 kilocalories\n"
     ]
    }
   ],
   "source": [
    "print(banana)"
   ]
  }
 ],
 "metadata": {
  "kernelspec": {
   "display_name": "Python 3 (ipykernel)",
   "language": "python",
   "name": "python3"
  },
  "language_info": {
   "codemirror_mode": {
    "name": "ipython",
    "version": 3
   },
   "file_extension": ".py",
   "mimetype": "text/x-python",
   "name": "python",
   "nbconvert_exporter": "python",
   "pygments_lexer": "ipython3",
   "version": "3.9.12"
  }
 },
 "nbformat": 4,
 "nbformat_minor": 5
}
