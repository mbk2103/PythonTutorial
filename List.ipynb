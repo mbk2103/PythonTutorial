{
 "cells": [
  {
   "cell_type": "markdown",
   "id": "ffea87fd",
   "metadata": {},
   "source": [
    "## List"
   ]
  },
  {
   "cell_type": "code",
   "execution_count": 1,
   "id": "729f04ce",
   "metadata": {},
   "outputs": [],
   "source": [
    "myString = \"Art amar Tech\""
   ]
  },
  {
   "cell_type": "code",
   "execution_count": 2,
   "id": "16065234",
   "metadata": {},
   "outputs": [
    {
     "data": {
      "text/plain": [
       "'A'"
      ]
     },
     "execution_count": 2,
     "metadata": {},
     "output_type": "execute_result"
    }
   ],
   "source": [
    "myString[0]"
   ]
  },
  {
   "cell_type": "markdown",
   "id": "f1a4ec94",
   "metadata": {},
   "source": [
    "Immutability  & Mutable"
   ]
  },
  {
   "cell_type": "code",
   "execution_count": 3,
   "id": "72b82ea8",
   "metadata": {},
   "outputs": [],
   "source": [
    "myList = [10, 20, 30, 40, 50]"
   ]
  },
  {
   "cell_type": "code",
   "execution_count": 4,
   "id": "aaece082",
   "metadata": {},
   "outputs": [
    {
     "data": {
      "text/plain": [
       "list"
      ]
     },
     "execution_count": 4,
     "metadata": {},
     "output_type": "execute_result"
    }
   ],
   "source": [
    "type(myList)"
   ]
  },
  {
   "cell_type": "code",
   "execution_count": 5,
   "id": "49e00ba5",
   "metadata": {},
   "outputs": [],
   "source": [
    "myNumber = 15\n",
    "otherNumber = 30"
   ]
  },
  {
   "cell_type": "code",
   "execution_count": 6,
   "id": "67ea1a76",
   "metadata": {},
   "outputs": [],
   "source": [
    "myNumberList = [myNumber, otherNumber]"
   ]
  },
  {
   "cell_type": "code",
   "execution_count": 7,
   "id": "db75af60",
   "metadata": {},
   "outputs": [
    {
     "data": {
      "text/plain": [
       "[15, 30]"
      ]
     },
     "execution_count": 7,
     "metadata": {},
     "output_type": "execute_result"
    }
   ],
   "source": [
    "myNumberList"
   ]
  },
  {
   "cell_type": "code",
   "execution_count": 8,
   "id": "597bd248",
   "metadata": {},
   "outputs": [],
   "source": [
    "myNumberList[0] = 100"
   ]
  },
  {
   "cell_type": "code",
   "execution_count": 9,
   "id": "c1e08c6a",
   "metadata": {},
   "outputs": [
    {
     "data": {
      "text/plain": [
       "[100, 30]"
      ]
     },
     "execution_count": 9,
     "metadata": {},
     "output_type": "execute_result"
    }
   ],
   "source": [
    "myNumberList"
   ]
  },
  {
   "cell_type": "markdown",
   "id": "201a88e5",
   "metadata": {},
   "source": [
    "### List Methods"
   ]
  },
  {
   "cell_type": "code",
   "execution_count": 10,
   "id": "056be818",
   "metadata": {},
   "outputs": [],
   "source": [
    "myList.append(75)"
   ]
  },
  {
   "cell_type": "code",
   "execution_count": 11,
   "id": "772db273",
   "metadata": {},
   "outputs": [
    {
     "data": {
      "text/plain": [
       "[10, 20, 30, 40, 50, 75]"
      ]
     },
     "execution_count": 11,
     "metadata": {},
     "output_type": "execute_result"
    }
   ],
   "source": [
    "myList"
   ]
  },
  {
   "cell_type": "code",
   "execution_count": 12,
   "id": "86f93083",
   "metadata": {},
   "outputs": [
    {
     "data": {
      "text/plain": [
       "75"
      ]
     },
     "execution_count": 12,
     "metadata": {},
     "output_type": "execute_result"
    }
   ],
   "source": [
    "myList.pop()"
   ]
  },
  {
   "cell_type": "code",
   "execution_count": 13,
   "id": "9e4af285",
   "metadata": {},
   "outputs": [
    {
     "data": {
      "text/plain": [
       "[10, 20, 30, 40, 50]"
      ]
     },
     "execution_count": 13,
     "metadata": {},
     "output_type": "execute_result"
    }
   ],
   "source": [
    "myList"
   ]
  },
  {
   "cell_type": "code",
   "execution_count": 14,
   "id": "01a6d5b7",
   "metadata": {},
   "outputs": [],
   "source": [
    "myList.remove(10)"
   ]
  },
  {
   "cell_type": "code",
   "execution_count": 15,
   "id": "f2cc2765",
   "metadata": {},
   "outputs": [
    {
     "data": {
      "text/plain": [
       "[20, 30, 40, 50]"
      ]
     },
     "execution_count": 15,
     "metadata": {},
     "output_type": "execute_result"
    }
   ],
   "source": [
    "myList"
   ]
  },
  {
   "cell_type": "code",
   "execution_count": 16,
   "id": "1fcbb66a",
   "metadata": {},
   "outputs": [
    {
     "data": {
      "text/plain": [
       "1"
      ]
     },
     "execution_count": 16,
     "metadata": {},
     "output_type": "execute_result"
    }
   ],
   "source": [
    "myList.count(40)"
   ]
  },
  {
   "cell_type": "code",
   "execution_count": 17,
   "id": "bf3d99d4",
   "metadata": {},
   "outputs": [],
   "source": [
    "myList.append(50)"
   ]
  },
  {
   "cell_type": "code",
   "execution_count": 18,
   "id": "bf32a536",
   "metadata": {},
   "outputs": [
    {
     "data": {
      "text/plain": [
       "2"
      ]
     },
     "execution_count": 18,
     "metadata": {},
     "output_type": "execute_result"
    }
   ],
   "source": [
    "myList.count(50)"
   ]
  },
  {
   "cell_type": "code",
   "execution_count": 19,
   "id": "dc0bc033",
   "metadata": {},
   "outputs": [
    {
     "data": {
      "text/plain": [
       "[20, 30, 40, 50, 50]"
      ]
     },
     "execution_count": 19,
     "metadata": {},
     "output_type": "execute_result"
    }
   ],
   "source": [
    "myList"
   ]
  },
  {
   "cell_type": "code",
   "execution_count": 20,
   "id": "181c4dc8",
   "metadata": {},
   "outputs": [],
   "source": [
    "myStringList = [\"a b\", \"c\", \"d\"]"
   ]
  },
  {
   "cell_type": "code",
   "execution_count": 21,
   "id": "46349871",
   "metadata": {},
   "outputs": [],
   "source": [
    "myListString = [\"e f\", \"g\", \"h\"]"
   ]
  },
  {
   "cell_type": "code",
   "execution_count": 22,
   "id": "a1db5235",
   "metadata": {},
   "outputs": [],
   "source": [
    "myTopList = myStringList + myListString"
   ]
  },
  {
   "cell_type": "code",
   "execution_count": 23,
   "id": "cf5933b2",
   "metadata": {},
   "outputs": [
    {
     "data": {
      "text/plain": [
       "['a b', 'c', 'd', 'e f', 'g', 'h']"
      ]
     },
     "execution_count": 23,
     "metadata": {},
     "output_type": "execute_result"
    }
   ],
   "source": [
    "myTopList"
   ]
  },
  {
   "cell_type": "code",
   "execution_count": 24,
   "id": "d31773dc",
   "metadata": {},
   "outputs": [
    {
     "data": {
      "text/plain": [
       "['a b', 'c', 'd', 'a b', 'c', 'd', 'a b', 'c', 'd']"
      ]
     },
     "execution_count": 24,
     "metadata": {},
     "output_type": "execute_result"
    }
   ],
   "source": [
    "myStringList * 3"
   ]
  },
  {
   "cell_type": "code",
   "execution_count": 25,
   "id": "e6a197f6",
   "metadata": {},
   "outputs": [],
   "source": [
    "myTopList.reverse()"
   ]
  },
  {
   "cell_type": "code",
   "execution_count": 26,
   "id": "7e2b3c6e",
   "metadata": {},
   "outputs": [
    {
     "data": {
      "text/plain": [
       "['h', 'g', 'e f', 'd', 'c', 'a b']"
      ]
     },
     "execution_count": 26,
     "metadata": {},
     "output_type": "execute_result"
    }
   ],
   "source": [
    "myTopList"
   ]
  },
  {
   "cell_type": "markdown",
   "id": "8a571afe",
   "metadata": {},
   "source": [
    "### Next Level "
   ]
  },
  {
   "cell_type": "code",
   "execution_count": 27,
   "id": "59bc1ab3",
   "metadata": {},
   "outputs": [],
   "source": [
    "listMix = [\"z\", 1, 3, 5, 7, \"a\", \" \"]"
   ]
  },
  {
   "cell_type": "code",
   "execution_count": 28,
   "id": "b9e24375",
   "metadata": {},
   "outputs": [
    {
     "data": {
      "text/plain": [
       "list"
      ]
     },
     "execution_count": 28,
     "metadata": {},
     "output_type": "execute_result"
    }
   ],
   "source": [
    "type(listMix)"
   ]
  },
  {
   "cell_type": "code",
   "execution_count": 29,
   "id": "e45c47d5",
   "metadata": {},
   "outputs": [
    {
     "data": {
      "text/plain": [
       "' '"
      ]
     },
     "execution_count": 29,
     "metadata": {},
     "output_type": "execute_result"
    }
   ],
   "source": [
    "result = listMix[6]\n",
    "listMix[6]"
   ]
  },
  {
   "cell_type": "code",
   "execution_count": 30,
   "id": "03dc4c4a",
   "metadata": {},
   "outputs": [
    {
     "data": {
      "text/plain": [
       "str"
      ]
     },
     "execution_count": 30,
     "metadata": {},
     "output_type": "execute_result"
    }
   ],
   "source": [
    "type(result)"
   ]
  },
  {
   "cell_type": "code",
   "execution_count": 31,
   "id": "68cc80a7",
   "metadata": {},
   "outputs": [],
   "source": [
    "nestedList = [1, 5, \"artamartech\", [3, \" \"], 7]"
   ]
  },
  {
   "cell_type": "code",
   "execution_count": 32,
   "id": "9fb2f73c",
   "metadata": {},
   "outputs": [
    {
     "data": {
      "text/plain": [
       "str"
      ]
     },
     "execution_count": 32,
     "metadata": {},
     "output_type": "execute_result"
    }
   ],
   "source": [
    "type(nestedList[2])"
   ]
  },
  {
   "cell_type": "code",
   "execution_count": 33,
   "id": "6cc4a3ae",
   "metadata": {},
   "outputs": [
    {
     "data": {
      "text/plain": [
       "list"
      ]
     },
     "execution_count": 33,
     "metadata": {},
     "output_type": "execute_result"
    }
   ],
   "source": [
    "type(nestedList)"
   ]
  },
  {
   "cell_type": "code",
   "execution_count": 34,
   "id": "f51b7f65",
   "metadata": {},
   "outputs": [],
   "source": [
    "three = nestedList[3][0]"
   ]
  },
  {
   "cell_type": "code",
   "execution_count": 35,
   "id": "05a7d736",
   "metadata": {},
   "outputs": [
    {
     "data": {
      "text/plain": [
       "3"
      ]
     },
     "execution_count": 35,
     "metadata": {},
     "output_type": "execute_result"
    }
   ],
   "source": [
    "three"
   ]
  },
  {
   "cell_type": "code",
   "execution_count": 36,
   "id": "27c9ad7b",
   "metadata": {},
   "outputs": [
    {
     "data": {
      "text/plain": [
       "[1, 5, 'artamartech', [3, ' '], 7]"
      ]
     },
     "execution_count": 36,
     "metadata": {},
     "output_type": "execute_result"
    }
   ],
   "source": [
    "nestedList"
   ]
  },
  {
   "cell_type": "code",
   "execution_count": 37,
   "id": "9c141a9d",
   "metadata": {},
   "outputs": [
    {
     "data": {
      "text/plain": [
       "list"
      ]
     },
     "execution_count": 37,
     "metadata": {},
     "output_type": "execute_result"
    }
   ],
   "source": [
    "type(nestedList[:2])"
   ]
  },
  {
   "cell_type": "code",
   "execution_count": 38,
   "id": "6ceda985",
   "metadata": {},
   "outputs": [
    {
     "data": {
      "text/plain": [
       "[1, 5]"
      ]
     },
     "execution_count": 38,
     "metadata": {},
     "output_type": "execute_result"
    }
   ],
   "source": [
    "nestedList[:2]"
   ]
  },
  {
   "cell_type": "code",
   "execution_count": 39,
   "id": "aa2d0f02",
   "metadata": {},
   "outputs": [
    {
     "data": {
      "text/plain": [
       "str"
      ]
     },
     "execution_count": 39,
     "metadata": {},
     "output_type": "execute_result"
    }
   ],
   "source": [
    "type(nestedList[2])"
   ]
  }
 ],
 "metadata": {
  "kernelspec": {
   "display_name": "Python 3 (ipykernel)",
   "language": "python",
   "name": "python3"
  },
  "language_info": {
   "codemirror_mode": {
    "name": "ipython",
    "version": 3
   },
   "file_extension": ".py",
   "mimetype": "text/x-python",
   "name": "python",
   "nbconvert_exporter": "python",
   "pygments_lexer": "ipython3",
   "version": "3.9.12"
  }
 },
 "nbformat": 4,
 "nbformat_minor": 5
}
