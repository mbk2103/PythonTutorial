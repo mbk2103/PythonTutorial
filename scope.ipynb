{
 "cells": [
  {
   "cell_type": "markdown",
   "id": "549783a4",
   "metadata": {},
   "source": [
    "## Scope"
   ]
  },
  {
   "cell_type": "code",
   "execution_count": 1,
   "id": "a92515f4",
   "metadata": {},
   "outputs": [],
   "source": [
    "num = 20\n",
    "\n",
    "def multiplication(number):\n",
    "    num = 10\n",
    "    return num * number"
   ]
  },
  {
   "cell_type": "code",
   "execution_count": 2,
   "id": "7e7a8b8c",
   "metadata": {},
   "outputs": [
    {
     "data": {
      "text/plain": [
       "100"
      ]
     },
     "execution_count": 2,
     "metadata": {},
     "output_type": "execute_result"
    }
   ],
   "source": [
    "multiplication(10)"
   ]
  },
  {
   "cell_type": "code",
   "execution_count": 3,
   "id": "1b101a62",
   "metadata": {},
   "outputs": [
    {
     "name": "stdout",
     "output_type": "stream",
     "text": [
      "20\n"
     ]
    }
   ],
   "source": [
    "print(num)"
   ]
  },
  {
   "cell_type": "markdown",
   "id": "19b30da6",
   "metadata": {},
   "source": [
    "## Local, Enclosing, Global, Built-In"
   ]
  },
  {
   "cell_type": "code",
   "execution_count": 4,
   "id": "9d64e57a",
   "metadata": {},
   "outputs": [],
   "source": [
    "myname = \"artamartech\"\n",
    "# Global\n",
    "\n",
    "def yname():\n",
    "    myname = \"artamar\"\n",
    "    # Enclosing\n",
    "    \n",
    "    def mname():\n",
    "        myname = \"tech\"\n",
    "        #Local\n",
    "        print(myname)\n",
    "    mname()"
   ]
  },
  {
   "cell_type": "code",
   "execution_count": 5,
   "id": "a59252d0",
   "metadata": {},
   "outputs": [
    {
     "name": "stdout",
     "output_type": "stream",
     "text": [
      "tech\n"
     ]
    }
   ],
   "source": [
    "yname()"
   ]
  },
  {
   "cell_type": "code",
   "execution_count": 6,
   "id": "71d11a62",
   "metadata": {},
   "outputs": [
    {
     "name": "stdout",
     "output_type": "stream",
     "text": [
      "artamartech\n"
     ]
    }
   ],
   "source": [
    "print(myname)"
   ]
  },
  {
   "cell_type": "code",
   "execution_count": 7,
   "id": "befd8694",
   "metadata": {},
   "outputs": [],
   "source": [
    "myname = \"artamartech\"\n",
    "# Global\n",
    "\n",
    "def yname():\n",
    "    myname = \"artamar\"\n",
    "    # Enclosing\n",
    "    \n",
    "    def mname():\n",
    "        #myname = \"tech\"\n",
    "        #Local\n",
    "        print(myname)\n",
    "    mname()"
   ]
  },
  {
   "cell_type": "code",
   "execution_count": 8,
   "id": "6efc3641",
   "metadata": {},
   "outputs": [
    {
     "name": "stdout",
     "output_type": "stream",
     "text": [
      "artamar\n"
     ]
    }
   ],
   "source": [
    "yname()"
   ]
  },
  {
   "cell_type": "code",
   "execution_count": 9,
   "id": "ed33c731",
   "metadata": {},
   "outputs": [
    {
     "name": "stdout",
     "output_type": "stream",
     "text": [
      "artamartech\n"
     ]
    }
   ],
   "source": [
    "print(myname)"
   ]
  },
  {
   "cell_type": "code",
   "execution_count": 10,
   "id": "9c0a2690",
   "metadata": {},
   "outputs": [],
   "source": [
    "y = 10\n",
    "\n",
    "def newFunc(y):\n",
    "    print(y)\n",
    "    y = 5\n",
    "    print(y)\n",
    "    return y"
   ]
  },
  {
   "cell_type": "code",
   "execution_count": 11,
   "id": "56f436fb",
   "metadata": {},
   "outputs": [
    {
     "name": "stdout",
     "output_type": "stream",
     "text": [
      "7\n",
      "5\n"
     ]
    },
    {
     "data": {
      "text/plain": [
       "5"
      ]
     },
     "execution_count": 11,
     "metadata": {},
     "output_type": "execute_result"
    }
   ],
   "source": [
    "newFunc(7)"
   ]
  },
  {
   "cell_type": "code",
   "execution_count": 12,
   "id": "378acb9c",
   "metadata": {},
   "outputs": [],
   "source": [
    "y =10\n",
    "def exFunc():\n",
    "    global y\n",
    "    y = 5\n",
    "    print(y)"
   ]
  },
  {
   "cell_type": "code",
   "execution_count": 13,
   "id": "2be39e29",
   "metadata": {},
   "outputs": [
    {
     "name": "stdout",
     "output_type": "stream",
     "text": [
      "5\n"
     ]
    }
   ],
   "source": [
    "exFunc()"
   ]
  },
  {
   "cell_type": "code",
   "execution_count": 14,
   "id": "13f06c26",
   "metadata": {},
   "outputs": [
    {
     "data": {
      "text/plain": [
       "5"
      ]
     },
     "execution_count": 14,
     "metadata": {},
     "output_type": "execute_result"
    }
   ],
   "source": [
    "y"
   ]
  }
 ],
 "metadata": {
  "kernelspec": {
   "display_name": "Python 3 (ipykernel)",
   "language": "python",
   "name": "python3"
  },
  "language_info": {
   "codemirror_mode": {
    "name": "ipython",
    "version": 3
   },
   "file_extension": ".py",
   "mimetype": "text/x-python",
   "name": "python",
   "nbconvert_exporter": "python",
   "pygments_lexer": "ipython3",
   "version": "3.9.12"
  }
 },
 "nbformat": 4,
 "nbformat_minor": 5
}
