{
 "cells": [
  {
   "cell_type": "markdown",
   "id": "881218c4",
   "metadata": {},
   "source": [
    "## Numbers"
   ]
  },
  {
   "cell_type": "code",
   "execution_count": 1,
   "id": "8b1bbaac",
   "metadata": {},
   "outputs": [],
   "source": [
    "first_value = 15\n",
    "second_value = 30"
   ]
  },
  {
   "cell_type": "code",
   "execution_count": 2,
   "id": "782d5fb4",
   "metadata": {},
   "outputs": [
    {
     "data": {
      "text/plain": [
       "45"
      ]
     },
     "execution_count": 2,
     "metadata": {},
     "output_type": "execute_result"
    }
   ],
   "source": [
    "first_value + second_value"
   ]
  },
  {
   "cell_type": "code",
   "execution_count": 3,
   "id": "a4cbfaaf",
   "metadata": {},
   "outputs": [
    {
     "data": {
      "text/plain": [
       "int"
      ]
     },
     "execution_count": 3,
     "metadata": {},
     "output_type": "execute_result"
    }
   ],
   "source": [
    "type(first_value) #integer"
   ]
  },
  {
   "cell_type": "code",
   "execution_count": 4,
   "id": "999fb0f3",
   "metadata": {},
   "outputs": [
    {
     "data": {
      "text/plain": [
       "2.0"
      ]
     },
     "execution_count": 4,
     "metadata": {},
     "output_type": "execute_result"
    }
   ],
   "source": [
    "second_value / first_value"
   ]
  },
  {
   "cell_type": "code",
   "execution_count": 5,
   "id": "fa4b09d1",
   "metadata": {},
   "outputs": [],
   "source": [
    "result = second_value / first_value"
   ]
  },
  {
   "cell_type": "code",
   "execution_count": 6,
   "id": "25b61476",
   "metadata": {},
   "outputs": [
    {
     "data": {
      "text/plain": [
       "float"
      ]
     },
     "execution_count": 6,
     "metadata": {},
     "output_type": "execute_result"
    }
   ],
   "source": [
    "type(result) #float"
   ]
  },
  {
   "cell_type": "code",
   "execution_count": 7,
   "id": "aea8df25",
   "metadata": {},
   "outputs": [],
   "source": [
    "z = 8"
   ]
  },
  {
   "cell_type": "code",
   "execution_count": 8,
   "id": "8df06efe",
   "metadata": {},
   "outputs": [],
   "source": [
    "p = 5"
   ]
  },
  {
   "cell_type": "code",
   "execution_count": 9,
   "id": "342f8603",
   "metadata": {},
   "outputs": [
    {
     "data": {
      "text/plain": [
       "1.6"
      ]
     },
     "execution_count": 9,
     "metadata": {},
     "output_type": "execute_result"
    }
   ],
   "source": [
    "z / p"
   ]
  },
  {
   "cell_type": "code",
   "execution_count": 10,
   "id": "5abffef1",
   "metadata": {},
   "outputs": [],
   "source": [
    "euler = 2.71"
   ]
  },
  {
   "cell_type": "code",
   "execution_count": 11,
   "id": "d89a3964",
   "metadata": {},
   "outputs": [
    {
     "data": {
      "text/plain": [
       "10.71"
      ]
     },
     "execution_count": 11,
     "metadata": {},
     "output_type": "execute_result"
    }
   ],
   "source": [
    "euler + z"
   ]
  },
  {
   "cell_type": "code",
   "execution_count": 12,
   "id": "92248daf",
   "metadata": {},
   "outputs": [
    {
     "data": {
      "text/plain": [
       "0.33875"
      ]
     },
     "execution_count": 12,
     "metadata": {},
     "output_type": "execute_result"
    }
   ],
   "source": [
    "euler / z"
   ]
  }
 ],
 "metadata": {
  "kernelspec": {
   "display_name": "Python 3 (ipykernel)",
   "language": "python",
   "name": "python3"
  },
  "language_info": {
   "codemirror_mode": {
    "name": "ipython",
    "version": 3
   },
   "file_extension": ".py",
   "mimetype": "text/x-python",
   "name": "python",
   "nbconvert_exporter": "python",
   "pygments_lexer": "ipython3",
   "version": "3.9.12"
  }
 },
 "nbformat": 4,
 "nbformat_minor": 5
}
