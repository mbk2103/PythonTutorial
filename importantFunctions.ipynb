{
 "cells": [
  {
   "cell_type": "markdown",
   "id": "ad70df84",
   "metadata": {},
   "source": [
    "## Important Functions"
   ]
  },
  {
   "cell_type": "code",
   "execution_count": 1,
   "id": "946731db",
   "metadata": {},
   "outputs": [],
   "source": [
    "def division(num):\n",
    "    return num/2"
   ]
  },
  {
   "cell_type": "code",
   "execution_count": 2,
   "id": "c729598f",
   "metadata": {},
   "outputs": [
    {
     "data": {
      "text/plain": [
       "2.5"
      ]
     },
     "execution_count": 2,
     "metadata": {},
     "output_type": "execute_result"
    }
   ],
   "source": [
    "division(5)"
   ]
  },
  {
   "cell_type": "code",
   "execution_count": 3,
   "id": "4ebca497",
   "metadata": {},
   "outputs": [],
   "source": [
    "list1 = [1, 2, 3, 4, 5, 6, 7, 8, 9]"
   ]
  },
  {
   "cell_type": "code",
   "execution_count": 4,
   "id": "eea410de",
   "metadata": {},
   "outputs": [],
   "source": [
    "newList = []\n",
    "for vari in list1:\n",
    "    newList.append(division(vari))"
   ]
  },
  {
   "cell_type": "code",
   "execution_count": 5,
   "id": "fb4d59ea",
   "metadata": {},
   "outputs": [
    {
     "data": {
      "text/plain": [
       "[0.5, 1.0, 1.5, 2.0, 2.5, 3.0, 3.5, 4.0, 4.5]"
      ]
     },
     "execution_count": 5,
     "metadata": {},
     "output_type": "execute_result"
    }
   ],
   "source": [
    "newList"
   ]
  },
  {
   "cell_type": "markdown",
   "id": "d96126c5",
   "metadata": {},
   "source": [
    "###  map"
   ]
  },
  {
   "cell_type": "code",
   "execution_count": 6,
   "id": "56c341c7",
   "metadata": {},
   "outputs": [
    {
     "data": {
      "text/plain": [
       "[0.5, 1.0, 1.5, 2.0, 2.5, 3.0, 3.5, 4.0, 4.5]"
      ]
     },
     "execution_count": 6,
     "metadata": {},
     "output_type": "execute_result"
    }
   ],
   "source": [
    "list(map(division, list1))"
   ]
  },
  {
   "cell_type": "code",
   "execution_count": 7,
   "id": "bdb9ef3e",
   "metadata": {},
   "outputs": [],
   "source": [
    "def controlFunc(string):\n",
    "    return \"a\" in string"
   ]
  },
  {
   "cell_type": "code",
   "execution_count": 8,
   "id": "5990e69a",
   "metadata": {},
   "outputs": [
    {
     "data": {
      "text/plain": [
       "True"
      ]
     },
     "execution_count": 8,
     "metadata": {},
     "output_type": "execute_result"
    }
   ],
   "source": [
    "controlFunc(\"artamartech\")"
   ]
  },
  {
   "cell_type": "code",
   "execution_count": 9,
   "id": "02b98489",
   "metadata": {},
   "outputs": [
    {
     "data": {
      "text/plain": [
       "False"
      ]
     },
     "execution_count": 9,
     "metadata": {},
     "output_type": "execute_result"
    }
   ],
   "source": [
    "controlFunc(\"tech\")"
   ]
  },
  {
   "cell_type": "code",
   "execution_count": 10,
   "id": "b6cedb54",
   "metadata": {},
   "outputs": [],
   "source": [
    "strList = [\"abc\", \"def\", \"afd\", \"dbc\"]"
   ]
  },
  {
   "cell_type": "code",
   "execution_count": 11,
   "id": "151c07c9",
   "metadata": {},
   "outputs": [],
   "source": [
    "resultList = list(map(controlFunc, strList))"
   ]
  },
  {
   "cell_type": "code",
   "execution_count": 12,
   "id": "2fe38487",
   "metadata": {},
   "outputs": [
    {
     "data": {
      "text/plain": [
       "[True, False, True, False]"
      ]
     },
     "execution_count": 12,
     "metadata": {},
     "output_type": "execute_result"
    }
   ],
   "source": [
    "resultList"
   ]
  },
  {
   "cell_type": "code",
   "execution_count": 13,
   "id": "b8f0dde4",
   "metadata": {},
   "outputs": [
    {
     "data": {
      "text/plain": [
       "2"
      ]
     },
     "execution_count": 13,
     "metadata": {},
     "output_type": "execute_result"
    }
   ],
   "source": [
    "resultList.count(True)"
   ]
  },
  {
   "cell_type": "markdown",
   "id": "2bc79a94",
   "metadata": {},
   "source": [
    "### filter"
   ]
  },
  {
   "cell_type": "code",
   "execution_count": 14,
   "id": "1243e67c",
   "metadata": {},
   "outputs": [
    {
     "data": {
      "text/plain": [
       "['abc', 'afd']"
      ]
     },
     "execution_count": 14,
     "metadata": {},
     "output_type": "execute_result"
    }
   ],
   "source": [
    "list(filter(controlFunc, strList))"
   ]
  },
  {
   "cell_type": "markdown",
   "id": "f2fcda0b",
   "metadata": {},
   "source": [
    "### lambda"
   ]
  },
  {
   "cell_type": "code",
   "execution_count": 15,
   "id": "a348e25d",
   "metadata": {},
   "outputs": [],
   "source": [
    "multiplication = lambda num: num * 5"
   ]
  },
  {
   "cell_type": "code",
   "execution_count": 16,
   "id": "0a0b5348",
   "metadata": {},
   "outputs": [
    {
     "data": {
      "text/plain": [
       "25"
      ]
     },
     "execution_count": 16,
     "metadata": {},
     "output_type": "execute_result"
    }
   ],
   "source": [
    "multiplication(5)"
   ]
  },
  {
   "cell_type": "code",
   "execution_count": 17,
   "id": "e150c5f3",
   "metadata": {},
   "outputs": [],
   "source": [
    "listEx= [1, 2, 3]"
   ]
  },
  {
   "cell_type": "code",
   "execution_count": null,
   "id": "b10d61e6",
   "metadata": {},
   "outputs": [],
   "source": [
    "list(map(lambda num:num*4, lis))"
   ]
  }
 ],
 "metadata": {
  "kernelspec": {
   "display_name": "Python 3 (ipykernel)",
   "language": "python",
   "name": "python3"
  },
  "language_info": {
   "codemirror_mode": {
    "name": "ipython",
    "version": 3
   },
   "file_extension": ".py",
   "mimetype": "text/x-python",
   "name": "python",
   "nbconvert_exporter": "python",
   "pygments_lexer": "ipython3",
   "version": "3.9.12"
  }
 },
 "nbformat": 4,
 "nbformat_minor": 5
}
