{
 "cells": [
  {
   "cell_type": "markdown",
   "id": "beea380e",
   "metadata": {},
   "source": [
    "## Dictionaries"
   ]
  },
  {
   "cell_type": "code",
   "execution_count": 1,
   "id": "f3023e8d",
   "metadata": {},
   "outputs": [],
   "source": [
    "myList = [1, 2, 3]"
   ]
  },
  {
   "cell_type": "code",
   "execution_count": 2,
   "id": "b5ca262b",
   "metadata": {},
   "outputs": [
    {
     "data": {
      "text/plain": [
       "1"
      ]
     },
     "execution_count": 2,
     "metadata": {},
     "output_type": "execute_result"
    }
   ],
   "source": [
    "myList[0]"
   ]
  },
  {
   "cell_type": "markdown",
   "id": "21081485",
   "metadata": {},
   "source": [
    "### Key-Value Pairing"
   ]
  },
  {
   "cell_type": "code",
   "execution_count": 3,
   "id": "f4c58d0a",
   "metadata": {},
   "outputs": [],
   "source": [
    "Food = [\"Egg\", \"Chicken\", \"Apple\"]"
   ]
  },
  {
   "cell_type": "code",
   "execution_count": 4,
   "id": "1ecdce11",
   "metadata": {},
   "outputs": [],
   "source": [
    "Calories = [78, 127, 85]"
   ]
  },
  {
   "cell_type": "markdown",
   "id": "5a232ebc",
   "metadata": {},
   "source": [
    "### Dictionary"
   ]
  },
  {
   "cell_type": "code",
   "execution_count": 5,
   "id": "8cd2cc40",
   "metadata": {},
   "outputs": [],
   "source": [
    "dFoodCalories = {\"Egg\": 78, \"Chicken\": 127, \"Apple\": 85}"
   ]
  },
  {
   "cell_type": "code",
   "execution_count": 6,
   "id": "a373cdda",
   "metadata": {},
   "outputs": [
    {
     "data": {
      "text/plain": [
       "dict"
      ]
     },
     "execution_count": 6,
     "metadata": {},
     "output_type": "execute_result"
    }
   ],
   "source": [
    "type(dFoodCalories)"
   ]
  },
  {
   "cell_type": "code",
   "execution_count": 7,
   "id": "0b8c8d46",
   "metadata": {},
   "outputs": [
    {
     "data": {
      "text/plain": [
       "85"
      ]
     },
     "execution_count": 7,
     "metadata": {},
     "output_type": "execute_result"
    }
   ],
   "source": [
    "dFoodCalories[\"Apple\"]"
   ]
  },
  {
   "cell_type": "code",
   "execution_count": 8,
   "id": "49d7d86c",
   "metadata": {},
   "outputs": [
    {
     "data": {
      "text/plain": [
       "{'Egg': 78, 'Chicken': 127, 'Apple': 85}"
      ]
     },
     "execution_count": 8,
     "metadata": {},
     "output_type": "execute_result"
    }
   ],
   "source": [
    "dFoodCalories"
   ]
  },
  {
   "cell_type": "code",
   "execution_count": 9,
   "id": "2975d997",
   "metadata": {},
   "outputs": [
    {
     "data": {
      "text/plain": [
       "127"
      ]
     },
     "execution_count": 9,
     "metadata": {},
     "output_type": "execute_result"
    }
   ],
   "source": [
    "dFoodCalories[\"Chicken\"]"
   ]
  },
  {
   "cell_type": "code",
   "execution_count": 10,
   "id": "d8fdd449",
   "metadata": {},
   "outputs": [],
   "source": [
    "newDictionary = {\"key\" : 100, \"key2\" : [1, 3, 5, 7, 9, 3.7, \"a b c\"], \"key3\" : {\"key7\" : 7}}"
   ]
  },
  {
   "cell_type": "code",
   "execution_count": 11,
   "id": "a0a2d7be",
   "metadata": {},
   "outputs": [
    {
     "data": {
      "text/plain": [
       "dict_keys(['key', 'key2', 'key3'])"
      ]
     },
     "execution_count": 11,
     "metadata": {},
     "output_type": "execute_result"
    }
   ],
   "source": [
    "newDictionary.keys()"
   ]
  },
  {
   "cell_type": "code",
   "execution_count": 12,
   "id": "8f52ff55",
   "metadata": {},
   "outputs": [
    {
     "data": {
      "text/plain": [
       "dict_values([100, [1, 3, 5, 7, 9, 3.7, 'a b c'], {'key7': 7}])"
      ]
     },
     "execution_count": 12,
     "metadata": {},
     "output_type": "execute_result"
    }
   ],
   "source": [
    "newDictionary.values()"
   ]
  },
  {
   "cell_type": "code",
   "execution_count": 13,
   "id": "e086d4a5",
   "metadata": {},
   "outputs": [
    {
     "data": {
      "text/plain": [
       "3.7"
      ]
     },
     "execution_count": 13,
     "metadata": {},
     "output_type": "execute_result"
    }
   ],
   "source": [
    "newDictionary[\"key2\"][5]"
   ]
  },
  {
   "cell_type": "code",
   "execution_count": 14,
   "id": "39f372fb",
   "metadata": {},
   "outputs": [
    {
     "data": {
      "text/plain": [
       "float"
      ]
     },
     "execution_count": 14,
     "metadata": {},
     "output_type": "execute_result"
    }
   ],
   "source": [
    "type(newDictionary[\"key2\"][5])"
   ]
  },
  {
   "cell_type": "code",
   "execution_count": 15,
   "id": "bdaf4b4d",
   "metadata": {},
   "outputs": [
    {
     "data": {
      "text/plain": [
       "'a b c'"
      ]
     },
     "execution_count": 15,
     "metadata": {},
     "output_type": "execute_result"
    }
   ],
   "source": [
    "newDictionary[\"key2\"][-1]"
   ]
  },
  {
   "cell_type": "code",
   "execution_count": 16,
   "id": "96a7abe4",
   "metadata": {},
   "outputs": [
    {
     "data": {
      "text/plain": [
       "7"
      ]
     },
     "execution_count": 16,
     "metadata": {},
     "output_type": "execute_result"
    }
   ],
   "source": [
    "newDictionary[\"key3\"][\"key7\"]"
   ]
  }
 ],
 "metadata": {
  "kernelspec": {
   "display_name": "Python 3 (ipykernel)",
   "language": "python",
   "name": "python3"
  },
  "language_info": {
   "codemirror_mode": {
    "name": "ipython",
    "version": 3
   },
   "file_extension": ".py",
   "mimetype": "text/x-python",
   "name": "python",
   "nbconvert_exporter": "python",
   "pygments_lexer": "ipython3",
   "version": "3.9.12"
  }
 },
 "nbformat": 4,
 "nbformat_minor": 5
}
