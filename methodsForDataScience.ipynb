{
 "cells": [
  {
   "cell_type": "markdown",
   "id": "9c81f83e",
   "metadata": {},
   "source": [
    "## Methods for Data Science"
   ]
  },
  {
   "cell_type": "code",
   "execution_count": 1,
   "id": "4a8fd70b",
   "metadata": {},
   "outputs": [],
   "source": [
    "ourList = [0, 1, 3, 5, 8, 9]"
   ]
  },
  {
   "cell_type": "code",
   "execution_count": 2,
   "id": "1121614c",
   "metadata": {},
   "outputs": [
    {
     "name": "stdout",
     "output_type": "stream",
     "text": [
      "0\n",
      "1\n",
      "3\n",
      "5\n",
      "8\n",
      "9\n"
     ]
    }
   ],
   "source": [
    "for number in ourList:\n",
    "    print(number)"
   ]
  },
  {
   "cell_type": "markdown",
   "id": "144a652e",
   "metadata": {},
   "source": [
    "### range"
   ]
  },
  {
   "cell_type": "code",
   "execution_count": 3,
   "id": "8db62d93",
   "metadata": {},
   "outputs": [
    {
     "data": {
      "text/plain": [
       "range(0, 10)"
      ]
     },
     "execution_count": 3,
     "metadata": {},
     "output_type": "execute_result"
    }
   ],
   "source": [
    "range(10)"
   ]
  },
  {
   "cell_type": "code",
   "execution_count": 4,
   "id": "af80d52d",
   "metadata": {},
   "outputs": [
    {
     "data": {
      "text/plain": [
       "[0, 1, 2, 3, 4, 5, 6, 7, 8, 9]"
      ]
     },
     "execution_count": 4,
     "metadata": {},
     "output_type": "execute_result"
    }
   ],
   "source": [
    "list(range(10))"
   ]
  },
  {
   "cell_type": "code",
   "execution_count": 5,
   "id": "b7ecb0d7",
   "metadata": {},
   "outputs": [
    {
     "name": "stdout",
     "output_type": "stream",
     "text": [
      "0\n",
      "2\n",
      "4\n",
      "6\n",
      "8\n",
      "10\n",
      "12\n",
      "14\n",
      "16\n",
      "18\n"
     ]
    }
   ],
   "source": [
    "for number in list(range(10)):\n",
    "    print(number * 2)"
   ]
  },
  {
   "cell_type": "code",
   "execution_count": 6,
   "id": "c93f5440",
   "metadata": {},
   "outputs": [
    {
     "data": {
      "text/plain": [
       "[0, 2, 4, 6, 8]"
      ]
     },
     "execution_count": 6,
     "metadata": {},
     "output_type": "execute_result"
    }
   ],
   "source": [
    "list(range(0, 10, 2))"
   ]
  },
  {
   "cell_type": "markdown",
   "id": "f705af4d",
   "metadata": {},
   "source": [
    "### enumerate"
   ]
  },
  {
   "cell_type": "code",
   "execution_count": 7,
   "id": "bcc78f86",
   "metadata": {},
   "outputs": [
    {
     "name": "stdout",
     "output_type": "stream",
     "text": [
      "Actual number: 1 Actual index: 0\n",
      "Actual number: 2 Actual index: 1\n",
      "Actual number: 3 Actual index: 2\n",
      "Actual number: 4 Actual index: 3\n",
      "Actual number: 5 Actual index: 4\n",
      "Actual number: 6 Actual index: 5\n",
      "Actual number: 7 Actual index: 6\n",
      "Actual number: 8 Actual index: 7\n",
      "Actual number: 9 Actual index: 8\n"
     ]
    }
   ],
   "source": [
    "index = 0\n",
    "for number in list(range(1, 10)):\n",
    "    print(f\"Actual number: {number} Actual index: {index}\")\n",
    "    index += 1"
   ]
  },
  {
   "cell_type": "code",
   "execution_count": 8,
   "id": "49aa7877",
   "metadata": {},
   "outputs": [
    {
     "name": "stdout",
     "output_type": "stream",
     "text": [
      "(0, 1)\n",
      "(1, 2)\n",
      "(2, 3)\n",
      "(3, 4)\n",
      "(4, 5)\n",
      "(5, 6)\n",
      "(6, 7)\n",
      "(7, 8)\n",
      "(8, 9)\n"
     ]
    }
   ],
   "source": [
    "for variable in enumerate(list(range(1, 10))):\n",
    "    print(variable)"
   ]
  },
  {
   "cell_type": "markdown",
   "id": "bdcc9814",
   "metadata": {},
   "source": [
    "### random"
   ]
  },
  {
   "cell_type": "code",
   "execution_count": 9,
   "id": "3e32359e",
   "metadata": {},
   "outputs": [],
   "source": [
    "from random import randint"
   ]
  },
  {
   "cell_type": "code",
   "execution_count": 10,
   "id": "b47a9c3c",
   "metadata": {},
   "outputs": [
    {
     "data": {
      "text/plain": [
       "70"
      ]
     },
     "execution_count": 10,
     "metadata": {},
     "output_type": "execute_result"
    }
   ],
   "source": [
    "randint(0, 1000)"
   ]
  },
  {
   "cell_type": "code",
   "execution_count": 11,
   "id": "c38ceb35",
   "metadata": {},
   "outputs": [],
   "source": [
    "newList = list(range(0 ,10))"
   ]
  },
  {
   "cell_type": "code",
   "execution_count": 12,
   "id": "400e212f",
   "metadata": {},
   "outputs": [
    {
     "data": {
      "text/plain": [
       "9"
      ]
     },
     "execution_count": 12,
     "metadata": {},
     "output_type": "execute_result"
    }
   ],
   "source": [
    "newList[randint(0, 9)]"
   ]
  },
  {
   "cell_type": "code",
   "execution_count": 13,
   "id": "0986dc5f",
   "metadata": {},
   "outputs": [],
   "source": [
    "from random import shuffle"
   ]
  },
  {
   "cell_type": "code",
   "execution_count": 14,
   "id": "348f4964",
   "metadata": {},
   "outputs": [],
   "source": [
    "shuffle(newList)"
   ]
  },
  {
   "cell_type": "code",
   "execution_count": 15,
   "id": "12057e8c",
   "metadata": {},
   "outputs": [
    {
     "data": {
      "text/plain": [
       "[6, 5, 9, 7, 3, 8, 2, 0, 4, 1]"
      ]
     },
     "execution_count": 15,
     "metadata": {},
     "output_type": "execute_result"
    }
   ],
   "source": [
    "newList"
   ]
  },
  {
   "cell_type": "markdown",
   "id": "7023cfbe",
   "metadata": {},
   "source": [
    "### zip"
   ]
  },
  {
   "cell_type": "code",
   "execution_count": 16,
   "id": "8ba2d0ba",
   "metadata": {},
   "outputs": [],
   "source": [
    "foodList = [\"Egg\", \"Apple\", \"Chicken\"]\n",
    "calList = [78, 85, 127]\n",
    "dayList = [\"Sunday\", \"Monday\", \"Thursday\"]"
   ]
  },
  {
   "cell_type": "code",
   "execution_count": 17,
   "id": "3fc9085a",
   "metadata": {},
   "outputs": [],
   "source": [
    "zipCalList = list(zip(foodList, calList, dayList))"
   ]
  },
  {
   "cell_type": "code",
   "execution_count": 18,
   "id": "00145ca9",
   "metadata": {},
   "outputs": [
    {
     "name": "stdout",
     "output_type": "stream",
     "text": [
      "<class 'tuple'>\n",
      "<class 'tuple'>\n",
      "<class 'tuple'>\n"
     ]
    }
   ],
   "source": [
    "for number in zipCalList:\n",
    "    print(type(number))"
   ]
  },
  {
   "cell_type": "code",
   "execution_count": 19,
   "id": "a0f1b2ed",
   "metadata": {},
   "outputs": [
    {
     "data": {
      "text/plain": [
       "[('Egg', 78, 'Sunday'), ('Apple', 85, 'Monday'), ('Chicken', 127, 'Thursday')]"
      ]
     },
     "execution_count": 19,
     "metadata": {},
     "output_type": "execute_result"
    }
   ],
   "source": [
    "zipCalList"
   ]
  },
  {
   "cell_type": "markdown",
   "id": "82276eb2",
   "metadata": {},
   "source": [
    "### Advance List"
   ]
  },
  {
   "cell_type": "code",
   "execution_count": 20,
   "id": "99df4af3",
   "metadata": {},
   "outputs": [],
   "source": [
    "expList = []\n",
    "ourString = \"a b c d e f g h\"\n",
    "\n",
    "for letter in ourString:\n",
    "    expList.append(letter)"
   ]
  },
  {
   "cell_type": "code",
   "execution_count": 21,
   "id": "7fdff929",
   "metadata": {},
   "outputs": [
    {
     "data": {
      "text/plain": [
       "['a', ' ', 'b', ' ', 'c', ' ', 'd', ' ', 'e', ' ', 'f', ' ', 'g', ' ', 'h']"
      ]
     },
     "execution_count": 21,
     "metadata": {},
     "output_type": "execute_result"
    }
   ],
   "source": [
    "expList"
   ]
  },
  {
   "cell_type": "code",
   "execution_count": 22,
   "id": "a090f8f5",
   "metadata": {},
   "outputs": [],
   "source": [
    "ourString = \"a b c d e f g h\""
   ]
  },
  {
   "cell_type": "code",
   "execution_count": 23,
   "id": "fd7c368b",
   "metadata": {},
   "outputs": [],
   "source": [
    "newEList = [letter for letter in ourString]"
   ]
  },
  {
   "cell_type": "code",
   "execution_count": 24,
   "id": "26256a6b",
   "metadata": {},
   "outputs": [
    {
     "data": {
      "text/plain": [
       "['a', ' ', 'b', ' ', 'c', ' ', 'd', ' ', 'e', ' ', 'f', ' ', 'g', ' ', 'h']"
      ]
     },
     "execution_count": 24,
     "metadata": {},
     "output_type": "execute_result"
    }
   ],
   "source": [
    "newEList"
   ]
  }
 ],
 "metadata": {
  "kernelspec": {
   "display_name": "Python 3 (ipykernel)",
   "language": "python",
   "name": "python3"
  },
  "language_info": {
   "codemirror_mode": {
    "name": "ipython",
    "version": 3
   },
   "file_extension": ".py",
   "mimetype": "text/x-python",
   "name": "python",
   "nbconvert_exporter": "python",
   "pygments_lexer": "ipython3",
   "version": "3.9.12"
  }
 },
 "nbformat": 4,
 "nbformat_minor": 5
}
