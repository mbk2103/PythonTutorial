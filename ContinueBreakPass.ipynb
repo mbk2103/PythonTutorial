{
 "cells": [
  {
   "cell_type": "markdown",
   "id": "cb0ae25d",
   "metadata": {},
   "source": [
    "## Continue - Break - Pass"
   ]
  },
  {
   "cell_type": "code",
   "execution_count": 1,
   "id": "4dbb683b",
   "metadata": {},
   "outputs": [],
   "source": [
    "myList = [2, 4, 6, 8, 10]"
   ]
  },
  {
   "cell_type": "code",
   "execution_count": 2,
   "id": "e776e67b",
   "metadata": {},
   "outputs": [
    {
     "name": "stdout",
     "output_type": "stream",
     "text": [
      "1.0\n",
      "2.0\n",
      "3.0\n",
      "4.0\n",
      "5.0\n"
     ]
    }
   ],
   "source": [
    "for number in myList:\n",
    "    print(number / 2)"
   ]
  },
  {
   "cell_type": "code",
   "execution_count": 3,
   "id": "f20b6842",
   "metadata": {},
   "outputs": [
    {
     "name": "stdout",
     "output_type": "stream",
     "text": [
      "2\n",
      "4\n"
     ]
    }
   ],
   "source": [
    "for number in myList:\n",
    "    if number == 6:\n",
    "        break\n",
    "    print(number)"
   ]
  },
  {
   "cell_type": "code",
   "execution_count": 4,
   "id": "d8788843",
   "metadata": {},
   "outputs": [
    {
     "name": "stdout",
     "output_type": "stream",
     "text": [
      "2\n",
      "4\n",
      "8\n",
      "10\n"
     ]
    }
   ],
   "source": [
    "for number in myList:\n",
    "    if number == 6:\n",
    "        continue\n",
    "    print(number)"
   ]
  },
  {
   "cell_type": "code",
   "execution_count": 5,
   "id": "ed35d805",
   "metadata": {},
   "outputs": [],
   "source": [
    "for number in myList:\n",
    "    pass"
   ]
  }
 ],
 "metadata": {
  "kernelspec": {
   "display_name": "Python 3 (ipykernel)",
   "language": "python",
   "name": "python3"
  },
  "language_info": {
   "codemirror_mode": {
    "name": "ipython",
    "version": 3
   },
   "file_extension": ".py",
   "mimetype": "text/x-python",
   "name": "python",
   "nbconvert_exporter": "python",
   "pygments_lexer": "ipython3",
   "version": "3.9.12"
  }
 },
 "nbformat": 4,
 "nbformat_minor": 5
}
