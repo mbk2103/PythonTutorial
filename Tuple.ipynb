{
 "cells": [
  {
   "cell_type": "markdown",
   "id": "469f4579",
   "metadata": {},
   "source": [
    "## Tuple"
   ]
  },
  {
   "cell_type": "code",
   "execution_count": 1,
   "id": "c47335bf",
   "metadata": {},
   "outputs": [],
   "source": [
    "myList = [1, 2, 3, \"a\", 1.2]"
   ]
  },
  {
   "cell_type": "code",
   "execution_count": 2,
   "id": "886be1ef",
   "metadata": {},
   "outputs": [
    {
     "data": {
      "text/plain": [
       "[1, 2, 3, 'a', 1.2]"
      ]
     },
     "execution_count": 2,
     "metadata": {},
     "output_type": "execute_result"
    }
   ],
   "source": [
    "myList"
   ]
  },
  {
   "cell_type": "code",
   "execution_count": 3,
   "id": "2bfb389c",
   "metadata": {},
   "outputs": [],
   "source": [
    "myTuple = (1, 2, 3, \"a\", 1.2)"
   ]
  },
  {
   "cell_type": "code",
   "execution_count": 4,
   "id": "61cd472d",
   "metadata": {},
   "outputs": [
    {
     "data": {
      "text/plain": [
       "(1, 2, 3, 'a', 1.2)"
      ]
     },
     "execution_count": 4,
     "metadata": {},
     "output_type": "execute_result"
    }
   ],
   "source": [
    "myTuple"
   ]
  },
  {
   "cell_type": "code",
   "execution_count": 5,
   "id": "fc36d99e",
   "metadata": {},
   "outputs": [
    {
     "data": {
      "text/plain": [
       "tuple"
      ]
     },
     "execution_count": 5,
     "metadata": {},
     "output_type": "execute_result"
    }
   ],
   "source": [
    "type(myTuple)"
   ]
  },
  {
   "cell_type": "code",
   "execution_count": 6,
   "id": "a0a1922d",
   "metadata": {},
   "outputs": [],
   "source": [
    "# myTuple[0] = 0  ---->> Tuple cannot be changed "
   ]
  },
  {
   "cell_type": "code",
   "execution_count": 7,
   "id": "13983749",
   "metadata": {},
   "outputs": [
    {
     "data": {
      "text/plain": [
       "1"
      ]
     },
     "execution_count": 7,
     "metadata": {},
     "output_type": "execute_result"
    }
   ],
   "source": [
    "myTuple.count(1.2)"
   ]
  },
  {
   "cell_type": "code",
   "execution_count": 8,
   "id": "7a26fe5d",
   "metadata": {},
   "outputs": [
    {
     "data": {
      "text/plain": [
       "4"
      ]
     },
     "execution_count": 8,
     "metadata": {},
     "output_type": "execute_result"
    }
   ],
   "source": [
    "myTuple.index(1.2)"
   ]
  }
 ],
 "metadata": {
  "kernelspec": {
   "display_name": "Python 3 (ipykernel)",
   "language": "python",
   "name": "python3"
  },
  "language_info": {
   "codemirror_mode": {
    "name": "ipython",
    "version": 3
   },
   "file_extension": ".py",
   "mimetype": "text/x-python",
   "name": "python",
   "nbconvert_exporter": "python",
   "pygments_lexer": "ipython3",
   "version": "3.9.12"
  }
 },
 "nbformat": 4,
 "nbformat_minor": 5
}
