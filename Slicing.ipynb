{
 "cells": [
  {
   "cell_type": "markdown",
   "id": "b6cf16a0",
   "metadata": {},
   "source": [
    "# Slicing"
   ]
  },
  {
   "cell_type": "code",
   "execution_count": 1,
   "id": "a16c2a9f",
   "metadata": {},
   "outputs": [],
   "source": [
    "name_string = \"ArtAmarTech\""
   ]
  },
  {
   "cell_type": "code",
   "execution_count": 2,
   "id": "0588134d",
   "metadata": {},
   "outputs": [
    {
     "data": {
      "text/plain": [
       "'ArtAmarTech'"
      ]
     },
     "execution_count": 2,
     "metadata": {},
     "output_type": "execute_result"
    }
   ],
   "source": [
    "name_string"
   ]
  },
  {
   "cell_type": "markdown",
   "id": "052902df",
   "metadata": {},
   "source": [
    "### Index"
   ]
  },
  {
   "cell_type": "code",
   "execution_count": 3,
   "id": "76d2f5a6",
   "metadata": {},
   "outputs": [
    {
     "data": {
      "text/plain": [
       "'A'"
      ]
     },
     "execution_count": 3,
     "metadata": {},
     "output_type": "execute_result"
    }
   ],
   "source": [
    "name_string[0]"
   ]
  },
  {
   "cell_type": "code",
   "execution_count": 4,
   "id": "25766e18",
   "metadata": {},
   "outputs": [
    {
     "data": {
      "text/plain": [
       "'Ar'"
      ]
     },
     "execution_count": 4,
     "metadata": {},
     "output_type": "execute_result"
    }
   ],
   "source": [
    "name_string[0:2]"
   ]
  },
  {
   "cell_type": "code",
   "execution_count": 5,
   "id": "eae37e67",
   "metadata": {},
   "outputs": [
    {
     "data": {
      "text/plain": [
       "'Atmre'"
      ]
     },
     "execution_count": 5,
     "metadata": {},
     "output_type": "execute_result"
    }
   ],
   "source": [
    "name_string[0:9:2]"
   ]
  },
  {
   "cell_type": "code",
   "execution_count": 6,
   "id": "a2f39731",
   "metadata": {},
   "outputs": [],
   "source": [
    "random_string = \"a b c\""
   ]
  },
  {
   "cell_type": "code",
   "execution_count": 7,
   "id": "9b6e17e5",
   "metadata": {},
   "outputs": [
    {
     "data": {
      "text/plain": [
       "' '"
      ]
     },
     "execution_count": 7,
     "metadata": {},
     "output_type": "execute_result"
    }
   ],
   "source": [
    "random_string[1]"
   ]
  },
  {
   "cell_type": "code",
   "execution_count": 8,
   "id": "d0cf9ae3",
   "metadata": {},
   "outputs": [
    {
     "data": {
      "text/plain": [
       "'h'"
      ]
     },
     "execution_count": 8,
     "metadata": {},
     "output_type": "execute_result"
    }
   ],
   "source": [
    "name_string[-1] # Last index"
   ]
  },
  {
   "cell_type": "code",
   "execution_count": 9,
   "id": "31edecd4",
   "metadata": {},
   "outputs": [],
   "source": [
    "new_string = \"0123456789\""
   ]
  },
  {
   "cell_type": "code",
   "execution_count": 10,
   "id": "74e30240",
   "metadata": {},
   "outputs": [
    {
     "data": {
      "text/plain": [
       "str"
      ]
     },
     "execution_count": 10,
     "metadata": {},
     "output_type": "execute_result"
    }
   ],
   "source": [
    "type(new_string)"
   ]
  },
  {
   "cell_type": "code",
   "execution_count": 11,
   "id": "f0d8ec76",
   "metadata": {},
   "outputs": [
    {
     "data": {
      "text/plain": [
       "'01'"
      ]
     },
     "execution_count": 11,
     "metadata": {},
     "output_type": "execute_result"
    }
   ],
   "source": [
    "new_string[:2]"
   ]
  },
  {
   "cell_type": "code",
   "execution_count": 12,
   "id": "a3bb731c",
   "metadata": {},
   "outputs": [
    {
     "data": {
      "text/plain": [
       "'23456789'"
      ]
     },
     "execution_count": 12,
     "metadata": {},
     "output_type": "execute_result"
    }
   ],
   "source": [
    "new_string[2:]"
   ]
  },
  {
   "cell_type": "markdown",
   "id": "d26bac05",
   "metadata": {},
   "source": [
    "### Slicing"
   ]
  },
  {
   "cell_type": "code",
   "execution_count": 13,
   "id": "660babcd",
   "metadata": {},
   "outputs": [],
   "source": [
    "incomingData = \"John'soldis65\""
   ]
  },
  {
   "cell_type": "code",
   "execution_count": 14,
   "id": "6713eb68",
   "metadata": {},
   "outputs": [
    {
     "data": {
      "text/plain": [
       "'65'"
      ]
     },
     "execution_count": 14,
     "metadata": {},
     "output_type": "execute_result"
    }
   ],
   "source": [
    "incomingData[-2:]"
   ]
  },
  {
   "cell_type": "code",
   "execution_count": 15,
   "id": "c28c9e9f",
   "metadata": {},
   "outputs": [
    {
     "data": {
      "text/plain": [
       "\"John'soldis\""
      ]
     },
     "execution_count": 15,
     "metadata": {},
     "output_type": "execute_result"
    }
   ],
   "source": [
    "incomingData[:-2]"
   ]
  },
  {
   "cell_type": "code",
   "execution_count": 16,
   "id": "2832257c",
   "metadata": {},
   "outputs": [
    {
     "data": {
      "text/plain": [
       "'John'"
      ]
     },
     "execution_count": 16,
     "metadata": {},
     "output_type": "execute_result"
    }
   ],
   "source": [
    "incomingData[0:4]"
   ]
  },
  {
   "cell_type": "code",
   "execution_count": 17,
   "id": "3e53ee13",
   "metadata": {},
   "outputs": [
    {
     "data": {
      "text/plain": [
       "'Jnoi5'"
      ]
     },
     "execution_count": 17,
     "metadata": {},
     "output_type": "execute_result"
    }
   ],
   "source": [
    "incomingData[::3]"
   ]
  },
  {
   "cell_type": "code",
   "execution_count": 18,
   "id": "26bf6de1",
   "metadata": {},
   "outputs": [
    {
     "data": {
      "text/plain": [
       "\"56sidlos'nhoJ\""
      ]
     },
     "execution_count": 18,
     "metadata": {},
     "output_type": "execute_result"
    }
   ],
   "source": [
    "incomingData[::-1]"
   ]
  }
 ],
 "metadata": {
  "kernelspec": {
   "display_name": "Python 3 (ipykernel)",
   "language": "python",
   "name": "python3"
  },
  "language_info": {
   "codemirror_mode": {
    "name": "ipython",
    "version": 3
   },
   "file_extension": ".py",
   "mimetype": "text/x-python",
   "name": "python",
   "nbconvert_exporter": "python",
   "pygments_lexer": "ipython3",
   "version": "3.9.12"
  }
 },
 "nbformat": 4,
 "nbformat_minor": 5
}
