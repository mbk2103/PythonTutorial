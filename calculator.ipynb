{
 "cells": [
  {
   "cell_type": "markdown",
   "id": "90da97d7",
   "metadata": {},
   "source": [
    "## Calculator as Function"
   ]
  },
  {
   "cell_type": "code",
   "execution_count": 1,
   "id": "bf98f740",
   "metadata": {},
   "outputs": [
    {
     "name": "stdout",
     "output_type": "stream",
     "text": [
      "Please, define the first number: 5\n",
      "Please, define the second number: 5\n",
      "Please, select your process: +-/* : *\n"
     ]
    },
    {
     "data": {
      "text/plain": [
       "'5 * 5 = 25'"
      ]
     },
     "execution_count": 1,
     "metadata": {},
     "output_type": "execute_result"
    }
   ],
   "source": [
    "def calculate(a, b, process):\n",
    "    if process == \"+\":\n",
    "        return (str(a) + \" + \" + str(b) + \" = \" + str(a + b))\n",
    "    if process == \"-\":\n",
    "        return (str(a) + \" - \" + str(b) + \" = \" + str(a - b))\n",
    "    if process == \"/\":\n",
    "        return (str(a) + \" / \" + str(b) + \" = \" + str(a / b))\n",
    "    if process == \"*\":\n",
    "        return (str(a) + \" * \" + str(b) + \" = \" + str(a * b))\n",
    " \n",
    "\n",
    "a = int(input(\"Please, define the first number: \"))\n",
    "b = int(input(\"Please, define the second number: \"))\n",
    "\n",
    "process = input(\"Please, select your process: +-/* : \")\n",
    "\n",
    "calculate(a, b, process)"
   ]
  },
  {
   "cell_type": "code",
   "execution_count": null,
   "id": "c461e4f7",
   "metadata": {},
   "outputs": [
    {
     "name": "stdout",
     "output_type": "stream",
     "text": [
      "Please, define the first number: 5\n",
      "Please, define the second number: 5\n",
      "Please, select your process: +-/* : *\n",
      "5 * 5 = 25\n",
      "Please, define the first number: art\n",
      "Please, be careful, wrong input\n",
      "Please, define the first number: 3\n",
      "Please, define the second number: 5\n",
      "Please, select your process: +-/* : !\n",
      "Please, select these processes: +-/*\n",
      "Please, define the first number: -\n",
      "Please, be careful, wrong input\n",
      "Please, be careful, wrong input\n",
      "Please, be careful, wrong input\n"
     ]
    }
   ],
   "source": [
    "def calculate(a, b, process):\n",
    "    if process not in \"+-/*\":\n",
    "        return \"Please, select these processes: +-/*\"\n",
    "\n",
    "    if process == \"+\":\n",
    "        return (str(a) + \" + \" + str(b) + \" = \" + str(a + b))\n",
    "    if process == \"-\":\n",
    "        return (str(a) + \" - \" + str(b) + \" = \" + str(a - b))\n",
    "    if process == \"/\":\n",
    "        return (str(a) + \" / \" + str(b) + \" = \" + str(a / b))\n",
    "    if process == \"*\":\n",
    "        return (str(a) + \" * \" + str(b) + \" = \" + str(a * b))\n",
    " \n",
    "while True:\n",
    "    try:\n",
    "        a = int(input(\"Please, define the first number: \"))\n",
    "        b = int(input(\"Please, define the second number: \"))\n",
    "\n",
    "        process = input(\"Please, select your process: +-/* : \")\n",
    "\n",
    "        print(calculate(a, b, process))\n",
    "    except:\n",
    "        print(\"Please, be careful, wrong input\")"
   ]
  }
 ],
 "metadata": {
  "kernelspec": {
   "display_name": "Python 3 (ipykernel)",
   "language": "python",
   "name": "python3"
  },
  "language_info": {
   "codemirror_mode": {
    "name": "ipython",
    "version": 3
   },
   "file_extension": ".py",
   "mimetype": "text/x-python",
   "name": "python",
   "nbconvert_exporter": "python",
   "pygments_lexer": "ipython3",
   "version": "3.9.12"
  }
 },
 "nbformat": 4,
 "nbformat_minor": 5
}
