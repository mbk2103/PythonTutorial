{
 "cells": [
  {
   "cell_type": "code",
   "execution_count": 1,
   "id": "951520e1",
   "metadata": {},
   "outputs": [],
   "source": [
    "MyChannelName = \"artamartech\""
   ]
  },
  {
   "cell_type": "code",
   "execution_count": 2,
   "id": "fe1109e3",
   "metadata": {},
   "outputs": [
    {
     "data": {
      "text/plain": [
       "'Artamartech'"
      ]
     },
     "execution_count": 2,
     "metadata": {},
     "output_type": "execute_result"
    }
   ],
   "source": [
    "MyChannelName.capitalize()"
   ]
  },
  {
   "cell_type": "code",
   "execution_count": 3,
   "id": "4d0ae503",
   "metadata": {},
   "outputs": [
    {
     "data": {
      "text/plain": [
       "'artamartech'"
      ]
     },
     "execution_count": 3,
     "metadata": {},
     "output_type": "execute_result"
    }
   ],
   "source": [
    "MyChannelName"
   ]
  },
  {
   "cell_type": "code",
   "execution_count": 4,
   "id": "c4c1d65f",
   "metadata": {},
   "outputs": [],
   "source": [
    "MyChannelName_v2 = \"art amar tech\""
   ]
  },
  {
   "cell_type": "code",
   "execution_count": 5,
   "id": "e8d13871",
   "metadata": {},
   "outputs": [
    {
     "data": {
      "text/plain": [
       "['art', 'amar', 'tech']"
      ]
     },
     "execution_count": 5,
     "metadata": {},
     "output_type": "execute_result"
    }
   ],
   "source": [
    "MyChannelName_v2.split()"
   ]
  },
  {
   "cell_type": "code",
   "execution_count": 6,
   "id": "55cb89f7",
   "metadata": {},
   "outputs": [
    {
     "data": {
      "text/plain": [
       "'ART AMAR TECH'"
      ]
     },
     "execution_count": 6,
     "metadata": {},
     "output_type": "execute_result"
    }
   ],
   "source": [
    "MyChannelName_v2.upper()"
   ]
  }
 ],
 "metadata": {
  "kernelspec": {
   "display_name": "Python 3 (ipykernel)",
   "language": "python",
   "name": "python3"
  },
  "language_info": {
   "codemirror_mode": {
    "name": "ipython",
    "version": 3
   },
   "file_extension": ".py",
   "mimetype": "text/x-python",
   "name": "python",
   "nbconvert_exporter": "python",
   "pygments_lexer": "ipython3",
   "version": "3.9.12"
  }
 },
 "nbformat": 4,
 "nbformat_minor": 5
}
