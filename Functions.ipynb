{
 "cells": [
  {
   "cell_type": "markdown",
   "id": "91b17e9a",
   "metadata": {},
   "source": [
    "## Functions"
   ]
  },
  {
   "cell_type": "code",
   "execution_count": 1,
   "id": "faf49728",
   "metadata": {},
   "outputs": [],
   "source": [
    "name = \"Art Amar Tech\""
   ]
  },
  {
   "cell_type": "code",
   "execution_count": 2,
   "id": "09be8d39",
   "metadata": {},
   "outputs": [
    {
     "data": {
      "text/plain": [
       "<function str.upper()>"
      ]
     },
     "execution_count": 2,
     "metadata": {},
     "output_type": "execute_result"
    }
   ],
   "source": [
    "name.upper"
   ]
  },
  {
   "cell_type": "code",
   "execution_count": 3,
   "id": "9b228ff1",
   "metadata": {},
   "outputs": [
    {
     "data": {
      "text/plain": [
       "'ART AMAR TECH'"
      ]
     },
     "execution_count": 3,
     "metadata": {},
     "output_type": "execute_result"
    }
   ],
   "source": [
    "name.upper()"
   ]
  },
  {
   "cell_type": "code",
   "execution_count": 4,
   "id": "14d25e72",
   "metadata": {},
   "outputs": [],
   "source": [
    "loww = name.lower()"
   ]
  },
  {
   "cell_type": "code",
   "execution_count": 5,
   "id": "2a4a0b27",
   "metadata": {},
   "outputs": [
    {
     "data": {
      "text/plain": [
       "'art amar tech'"
      ]
     },
     "execution_count": 5,
     "metadata": {},
     "output_type": "execute_result"
    }
   ],
   "source": [
    "loww"
   ]
  },
  {
   "cell_type": "code",
   "execution_count": 6,
   "id": "8d8ad31b",
   "metadata": {},
   "outputs": [
    {
     "name": "stdout",
     "output_type": "stream",
     "text": [
      "Help on built-in function lower:\n",
      "\n",
      "lower() method of builtins.str instance\n",
      "    Return a copy of the string converted to lowercase.\n",
      "\n"
     ]
    }
   ],
   "source": [
    "help(name.lower)"
   ]
  },
  {
   "cell_type": "code",
   "execution_count": 7,
   "id": "74549311",
   "metadata": {},
   "outputs": [],
   "source": [
    "def firstFunction():\n",
    "    print(\"Hi, this is first function.\")"
   ]
  },
  {
   "cell_type": "code",
   "execution_count": 8,
   "id": "bba728f3",
   "metadata": {},
   "outputs": [
    {
     "data": {
      "text/plain": [
       "<function __main__.firstFunction()>"
      ]
     },
     "execution_count": 8,
     "metadata": {},
     "output_type": "execute_result"
    }
   ],
   "source": [
    "firstFunction"
   ]
  },
  {
   "cell_type": "code",
   "execution_count": 9,
   "id": "5d7de8ee",
   "metadata": {},
   "outputs": [
    {
     "name": "stdout",
     "output_type": "stream",
     "text": [
      "Hi, this is first function.\n"
     ]
    }
   ],
   "source": [
    "firstFunction()"
   ]
  },
  {
   "cell_type": "markdown",
   "id": "d50d98fe",
   "metadata": {},
   "source": [
    "### input & return"
   ]
  },
  {
   "cell_type": "code",
   "execution_count": 10,
   "id": "59357f4c",
   "metadata": {},
   "outputs": [],
   "source": [
    "def hiworld():\n",
    "    print(\"Hi, World! How are you?\")"
   ]
  },
  {
   "cell_type": "code",
   "execution_count": 11,
   "id": "0d6fd752",
   "metadata": {},
   "outputs": [
    {
     "data": {
      "text/plain": [
       "<function __main__.hiworld()>"
      ]
     },
     "execution_count": 11,
     "metadata": {},
     "output_type": "execute_result"
    }
   ],
   "source": [
    "hiworld"
   ]
  },
  {
   "cell_type": "code",
   "execution_count": 12,
   "id": "0b69bce2",
   "metadata": {},
   "outputs": [
    {
     "name": "stdout",
     "output_type": "stream",
     "text": [
      "Hi, World! How are you?\n"
     ]
    }
   ],
   "source": [
    "hiworld()"
   ]
  },
  {
   "cell_type": "code",
   "execution_count": 13,
   "id": "1c125f6e",
   "metadata": {},
   "outputs": [],
   "source": [
    "def ihiworld(user_name):\n",
    "    print(\"Hi, World! How are you?\")\n",
    "    print(\"I am \", user_name)"
   ]
  },
  {
   "cell_type": "code",
   "execution_count": 14,
   "id": "c5a52a82",
   "metadata": {},
   "outputs": [
    {
     "name": "stdout",
     "output_type": "stream",
     "text": [
      "Hi, World! How are you?\n",
      "I am  Amar\n"
     ]
    }
   ],
   "source": [
    "ihiworld(\"Amar\")"
   ]
  },
  {
   "cell_type": "code",
   "execution_count": 15,
   "id": "761fba92",
   "metadata": {},
   "outputs": [],
   "source": [
    "def phiworld(user_name = \"Tech\"):\n",
    "    print(\"Hi, World! How are you?\")\n",
    "    print(\"I am \", user_name)"
   ]
  },
  {
   "cell_type": "code",
   "execution_count": 16,
   "id": "431fc6bd",
   "metadata": {},
   "outputs": [
    {
     "name": "stdout",
     "output_type": "stream",
     "text": [
      "Hi, World! How are you?\n",
      "I am  Tech\n"
     ]
    }
   ],
   "source": [
    "phiworld()"
   ]
  },
  {
   "cell_type": "code",
   "execution_count": 17,
   "id": "5643cab4",
   "metadata": {},
   "outputs": [
    {
     "name": "stdout",
     "output_type": "stream",
     "text": [
      "Hi, World! How are you?\n",
      "I am  Art\n"
     ]
    }
   ],
   "source": [
    "phiworld(\"Art\")"
   ]
  },
  {
   "cell_type": "code",
   "execution_count": 18,
   "id": "b409e5f7",
   "metadata": {},
   "outputs": [],
   "source": [
    "def addition(num1, num2, num3):\n",
    "    print(num1 + num2 + num3)"
   ]
  },
  {
   "cell_type": "code",
   "execution_count": 19,
   "id": "c858ec25",
   "metadata": {},
   "outputs": [
    {
     "name": "stdout",
     "output_type": "stream",
     "text": [
      "111\n"
     ]
    }
   ],
   "source": [
    "addition(1, 100, 10)"
   ]
  },
  {
   "cell_type": "code",
   "execution_count": 20,
   "id": "c927b50a",
   "metadata": {},
   "outputs": [
    {
     "data": {
      "text/plain": [
       "function"
      ]
     },
     "execution_count": 20,
     "metadata": {},
     "output_type": "execute_result"
    }
   ],
   "source": [
    "type(hiworld)"
   ]
  },
  {
   "cell_type": "code",
   "execution_count": 21,
   "id": "ebdd2a16",
   "metadata": {},
   "outputs": [
    {
     "name": "stdout",
     "output_type": "stream",
     "text": [
      "6\n"
     ]
    },
    {
     "data": {
      "text/plain": [
       "NoneType"
      ]
     },
     "execution_count": 21,
     "metadata": {},
     "output_type": "execute_result"
    }
   ],
   "source": [
    "type(addition(1, 2, 3))"
   ]
  },
  {
   "cell_type": "code",
   "execution_count": 22,
   "id": "d80ec8af",
   "metadata": {},
   "outputs": [],
   "source": [
    "def raddition(num1, num2, num3):\n",
    "    print(num1 + num2 + num3)\n",
    "    return num1 + num2 + num3"
   ]
  },
  {
   "cell_type": "code",
   "execution_count": 23,
   "id": "05ee9cb3",
   "metadata": {},
   "outputs": [
    {
     "name": "stdout",
     "output_type": "stream",
     "text": [
      "-1\n"
     ]
    },
    {
     "data": {
      "text/plain": [
       "-1"
      ]
     },
     "execution_count": 23,
     "metadata": {},
     "output_type": "execute_result"
    }
   ],
   "source": [
    "raddition(0, 1, -2)"
   ]
  },
  {
   "cell_type": "code",
   "execution_count": 24,
   "id": "0dcb3e9f",
   "metadata": {},
   "outputs": [
    {
     "name": "stdout",
     "output_type": "stream",
     "text": [
      "6\n"
     ]
    },
    {
     "data": {
      "text/plain": [
       "NoneType"
      ]
     },
     "execution_count": 24,
     "metadata": {},
     "output_type": "execute_result"
    }
   ],
   "source": [
    "type(addition(1, 2, 3))"
   ]
  },
  {
   "cell_type": "code",
   "execution_count": 25,
   "id": "d4623011",
   "metadata": {},
   "outputs": [
    {
     "name": "stdout",
     "output_type": "stream",
     "text": [
      "-1\n"
     ]
    },
    {
     "data": {
      "text/plain": [
       "int"
      ]
     },
     "execution_count": 25,
     "metadata": {},
     "output_type": "execute_result"
    }
   ],
   "source": [
    "type(raddition(0, 1, -2))"
   ]
  },
  {
   "cell_type": "code",
   "execution_count": 26,
   "id": "4138e8de",
   "metadata": {},
   "outputs": [],
   "source": [
    "def controlfunc(s):\n",
    "    if s == \"a\":\n",
    "        print(\"Wrong password!\")\n",
    "    else:\n",
    "        print(\"Right password!\")"
   ]
  },
  {
   "cell_type": "code",
   "execution_count": 27,
   "id": "08ade49b",
   "metadata": {},
   "outputs": [
    {
     "name": "stdout",
     "output_type": "stream",
     "text": [
      "Right password!\n"
     ]
    }
   ],
   "source": [
    "controlfunc(\"s\")"
   ]
  },
  {
   "cell_type": "code",
   "execution_count": 28,
   "id": "12675322",
   "metadata": {},
   "outputs": [
    {
     "name": "stdout",
     "output_type": "stream",
     "text": [
      "Wrong password!\n"
     ]
    }
   ],
   "source": [
    "controlfunc(\"a\")"
   ]
  },
  {
   "cell_type": "markdown",
   "id": "a55e0638",
   "metadata": {},
   "source": [
    "### args & kwargs"
   ]
  },
  {
   "cell_type": "code",
   "execution_count": 29,
   "id": "5b7db88d",
   "metadata": {},
   "outputs": [],
   "source": [
    "def newAddition(*args):\n",
    "    return sum(args)"
   ]
  },
  {
   "cell_type": "code",
   "execution_count": 30,
   "id": "00a6df1f",
   "metadata": {},
   "outputs": [
    {
     "data": {
      "text/plain": [
       "26"
      ]
     },
     "execution_count": 30,
     "metadata": {},
     "output_type": "execute_result"
    }
   ],
   "source": [
    "newAddition(1, 2, 3, 5, 6, 9)"
   ]
  },
  {
   "cell_type": "code",
   "execution_count": 31,
   "id": "03e46c16",
   "metadata": {},
   "outputs": [],
   "source": [
    "def ourFunc(*args):\n",
    "    print(args)"
   ]
  },
  {
   "cell_type": "code",
   "execution_count": 32,
   "id": "4f939402",
   "metadata": {},
   "outputs": [
    {
     "name": "stdout",
     "output_type": "stream",
     "text": [
      "(3, 2, 1)\n"
     ]
    }
   ],
   "source": [
    "ourFunc(3, 2, 1)"
   ]
  },
  {
   "cell_type": "code",
   "execution_count": 33,
   "id": "c98fb541",
   "metadata": {},
   "outputs": [
    {
     "name": "stdout",
     "output_type": "stream",
     "text": [
      "(3, 2, 1)\n"
     ]
    },
    {
     "data": {
      "text/plain": [
       "NoneType"
      ]
     },
     "execution_count": 33,
     "metadata": {},
     "output_type": "execute_result"
    }
   ],
   "source": [
    "type(ourFunc(3, 2, 1))"
   ]
  },
  {
   "cell_type": "code",
   "execution_count": 34,
   "id": "cf4fa669",
   "metadata": {},
   "outputs": [],
   "source": [
    "def ourFunc2(*args):\n",
    "    print(args)\n",
    "    return args"
   ]
  },
  {
   "cell_type": "code",
   "execution_count": 35,
   "id": "9dfec3c2",
   "metadata": {},
   "outputs": [
    {
     "name": "stdout",
     "output_type": "stream",
     "text": [
      "(3, 2, 1)\n"
     ]
    },
    {
     "data": {
      "text/plain": [
       "tuple"
      ]
     },
     "execution_count": 35,
     "metadata": {},
     "output_type": "execute_result"
    }
   ],
   "source": [
    "type(ourFunc2(3, 2, 1))"
   ]
  },
  {
   "cell_type": "code",
   "execution_count": 36,
   "id": "0574991f",
   "metadata": {},
   "outputs": [],
   "source": [
    "def yourFunc(**kwargs):\n",
    "    print(kwargs)\n",
    "    return kwargs"
   ]
  },
  {
   "cell_type": "code",
   "execution_count": 37,
   "id": "523cb1af",
   "metadata": {},
   "outputs": [
    {
     "name": "stdout",
     "output_type": "stream",
     "text": [
      "{'a': 3, 'b': 4, 'c': 6}\n"
     ]
    },
    {
     "data": {
      "text/plain": [
       "dict"
      ]
     },
     "execution_count": 37,
     "metadata": {},
     "output_type": "execute_result"
    }
   ],
   "source": [
    "type(yourFunc(a = 3, b = 4, c = 6))"
   ]
  }
 ],
 "metadata": {
  "kernelspec": {
   "display_name": "Python 3 (ipykernel)",
   "language": "python",
   "name": "python3"
  },
  "language_info": {
   "codemirror_mode": {
    "name": "ipython",
    "version": 3
   },
   "file_extension": ".py",
   "mimetype": "text/x-python",
   "name": "python",
   "nbconvert_exporter": "python",
   "pygments_lexer": "ipython3",
   "version": "3.9.12"
  }
 },
 "nbformat": 4,
 "nbformat_minor": 5
}
