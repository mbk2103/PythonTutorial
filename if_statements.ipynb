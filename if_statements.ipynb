{
 "cells": [
  {
   "cell_type": "markdown",
   "id": "b7f94d39",
   "metadata": {},
   "source": [
    "## If Statements"
   ]
  },
  {
   "cell_type": "code",
   "execution_count": 1,
   "id": "a7472108",
   "metadata": {},
   "outputs": [
    {
     "data": {
      "text/plain": [
       "True"
      ]
     },
     "execution_count": 1,
     "metadata": {},
     "output_type": "execute_result"
    }
   ],
   "source": [
    "1 < 3"
   ]
  },
  {
   "cell_type": "code",
   "execution_count": 2,
   "id": "d86e324f",
   "metadata": {},
   "outputs": [
    {
     "name": "stdout",
     "output_type": "stream",
     "text": [
      "Hi World, how are you?\n",
      "Condition met\n"
     ]
    }
   ],
   "source": [
    "if 1 < 3:\n",
    "    print(\"Hi World, how are you?\")\n",
    "    print(\"Condition met\")"
   ]
  },
  {
   "cell_type": "code",
   "execution_count": 3,
   "id": "3a281745",
   "metadata": {},
   "outputs": [
    {
     "name": "stdout",
     "output_type": "stream",
     "text": [
      "Condition not met\n"
     ]
    }
   ],
   "source": [
    "if 3 < 1:\n",
    "    print(\"Hi World, how are you?\")\n",
    "    print(\"Condition met\")\n",
    "print(\"Condition not met\")"
   ]
  },
  {
   "cell_type": "code",
   "execution_count": 4,
   "id": "ea0a7640",
   "metadata": {},
   "outputs": [],
   "source": [
    "a = 5\n",
    "b = 5"
   ]
  },
  {
   "cell_type": "code",
   "execution_count": 5,
   "id": "559b1732",
   "metadata": {},
   "outputs": [
    {
     "name": "stdout",
     "output_type": "stream",
     "text": [
      "a equal to b\n"
     ]
    }
   ],
   "source": [
    "if a < b:\n",
    "    print(\"a is smaller than b\")\n",
    "elif b < a:\n",
    "    print(\"b is smaller than a\")\n",
    "else:\n",
    "    print(\"a equal to b\")"
   ]
  },
  {
   "cell_type": "code",
   "execution_count": 6,
   "id": "ec9f795a",
   "metadata": {},
   "outputs": [
    {
     "name": "stdout",
     "output_type": "stream",
     "text": [
      "Your Super Hero: Batman\n"
     ]
    }
   ],
   "source": [
    "myHero = input(\"Your Super Hero: \")"
   ]
  },
  {
   "cell_type": "code",
   "execution_count": 7,
   "id": "c2eabbc5",
   "metadata": {},
   "outputs": [
    {
     "name": "stdout",
     "output_type": "stream",
     "text": [
      "Unexpected answer\n"
     ]
    }
   ],
   "source": [
    "if myHero == \"Iron Man\":\n",
    "    print(\"Robert Downey\")\n",
    "elif myHero == \"Superman\":\n",
    "    print(\"Henry Cavill\")\n",
    "else:\n",
    "    print(\"Unexpected answer\")"
   ]
  },
  {
   "cell_type": "code",
   "execution_count": 8,
   "id": "51867be2",
   "metadata": {},
   "outputs": [],
   "source": [
    "heroStamina = True"
   ]
  },
  {
   "cell_type": "code",
   "execution_count": 9,
   "id": "3388dbef",
   "metadata": {},
   "outputs": [
    {
     "name": "stdout",
     "output_type": "stream",
     "text": [
      "You are alive\n"
     ]
    }
   ],
   "source": [
    "if heroStamina:\n",
    "    print(\"You are alive\")\n",
    "else:\n",
    "    print(\"We are sorry for your lose\")"
   ]
  },
  {
   "cell_type": "code",
   "execution_count": 10,
   "id": "222a3e65",
   "metadata": {},
   "outputs": [],
   "source": [
    "mString = \"12345.79\""
   ]
  },
  {
   "cell_type": "code",
   "execution_count": 11,
   "id": "d22bfc25",
   "metadata": {},
   "outputs": [
    {
     "name": "stdout",
     "output_type": "stream",
     "text": [
      "String contains ' . '\n"
     ]
    }
   ],
   "source": [
    "if \".\" in mString:\n",
    "    print(\"String contains ' . '\")"
   ]
  },
  {
   "cell_type": "code",
   "execution_count": 12,
   "id": "64ff7022",
   "metadata": {},
   "outputs": [],
   "source": [
    "dict5 = {\"banana\" : 100, \"cherry\" : 50}"
   ]
  },
  {
   "cell_type": "code",
   "execution_count": 13,
   "id": "589f7933",
   "metadata": {},
   "outputs": [
    {
     "name": "stdout",
     "output_type": "stream",
     "text": [
      "We need to 'cherry'\n"
     ]
    }
   ],
   "source": [
    "if \"cherry\" in dict5.keys():\n",
    "    print(\"We need to 'cherry'\")"
   ]
  },
  {
   "cell_type": "code",
   "execution_count": 14,
   "id": "617cba72",
   "metadata": {},
   "outputs": [
    {
     "name": "stdout",
     "output_type": "stream",
     "text": [
      "We need to 'cherry'\n"
     ]
    }
   ],
   "source": [
    "if 50 in dict5.values():\n",
    "    print(\"We need to 'cherry'\")"
   ]
  }
 ],
 "metadata": {
  "kernelspec": {
   "display_name": "Python 3 (ipykernel)",
   "language": "python",
   "name": "python3"
  },
  "language_info": {
   "codemirror_mode": {
    "name": "ipython",
    "version": 3
   },
   "file_extension": ".py",
   "mimetype": "text/x-python",
   "name": "python",
   "nbconvert_exporter": "python",
   "pygments_lexer": "ipython3",
   "version": "3.9.12"
  }
 },
 "nbformat": 4,
 "nbformat_minor": 5
}
