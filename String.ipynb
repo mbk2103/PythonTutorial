{
 "cells": [
  {
   "cell_type": "markdown",
   "id": "162b1cad",
   "metadata": {},
   "source": [
    "## String"
   ]
  },
  {
   "cell_type": "code",
   "execution_count": 1,
   "id": "cc6674af",
   "metadata": {},
   "outputs": [
    {
     "name": "stdout",
     "output_type": "stream",
     "text": [
      "How old are you? 16\n"
     ]
    }
   ],
   "source": [
    "userAge = input(\"How old are you? \")"
   ]
  },
  {
   "cell_type": "code",
   "execution_count": 2,
   "id": "adab06fc",
   "metadata": {},
   "outputs": [
    {
     "data": {
      "text/plain": [
       "'16'"
      ]
     },
     "execution_count": 2,
     "metadata": {},
     "output_type": "execute_result"
    }
   ],
   "source": [
    "userAge"
   ]
  },
  {
   "cell_type": "code",
   "execution_count": 3,
   "id": "2ccd4c5b",
   "metadata": {},
   "outputs": [
    {
     "data": {
      "text/plain": [
       "str"
      ]
     },
     "execution_count": 3,
     "metadata": {},
     "output_type": "execute_result"
    }
   ],
   "source": [
    "type(userAge)"
   ]
  },
  {
   "cell_type": "code",
   "execution_count": 4,
   "id": "24950b30",
   "metadata": {},
   "outputs": [
    {
     "data": {
      "text/plain": [
       "'161616'"
      ]
     },
     "execution_count": 4,
     "metadata": {},
     "output_type": "execute_result"
    }
   ],
   "source": [
    "userAge * 3"
   ]
  },
  {
   "cell_type": "code",
   "execution_count": 5,
   "id": "46191f4b",
   "metadata": {},
   "outputs": [],
   "source": [
    "o = \"Hello AI\""
   ]
  },
  {
   "cell_type": "code",
   "execution_count": 6,
   "id": "ff77d652",
   "metadata": {},
   "outputs": [
    {
     "data": {
      "text/plain": [
       "'Hello AI'"
      ]
     },
     "execution_count": 6,
     "metadata": {},
     "output_type": "execute_result"
    }
   ],
   "source": [
    "o"
   ]
  },
  {
   "cell_type": "code",
   "execution_count": 7,
   "id": "b2a3ce85",
   "metadata": {},
   "outputs": [],
   "source": [
    "o = 5"
   ]
  },
  {
   "cell_type": "code",
   "execution_count": 8,
   "id": "4c990c5b",
   "metadata": {},
   "outputs": [
    {
     "data": {
      "text/plain": [
       "5"
      ]
     },
     "execution_count": 8,
     "metadata": {},
     "output_type": "execute_result"
    }
   ],
   "source": [
    "o"
   ]
  },
  {
   "cell_type": "code",
   "execution_count": 9,
   "id": "ef402772",
   "metadata": {},
   "outputs": [
    {
     "data": {
      "text/plain": [
       "int"
      ]
     },
     "execution_count": 9,
     "metadata": {},
     "output_type": "execute_result"
    }
   ],
   "source": [
    "type(o)"
   ]
  },
  {
   "cell_type": "code",
   "execution_count": 10,
   "id": "e2e28b38",
   "metadata": {},
   "outputs": [],
   "source": [
    "q = \"new string\""
   ]
  },
  {
   "cell_type": "code",
   "execution_count": 11,
   "id": "aaf54151",
   "metadata": {},
   "outputs": [
    {
     "data": {
      "text/plain": [
       "'New string'"
      ]
     },
     "execution_count": 11,
     "metadata": {},
     "output_type": "execute_result"
    }
   ],
   "source": [
    "q.capitalize()"
   ]
  },
  {
   "cell_type": "code",
   "execution_count": 12,
   "id": "8d990d62",
   "metadata": {},
   "outputs": [
    {
     "data": {
      "text/plain": [
       "'new string'"
      ]
     },
     "execution_count": 12,
     "metadata": {},
     "output_type": "execute_result"
    }
   ],
   "source": [
    "q"
   ]
  },
  {
   "cell_type": "code",
   "execution_count": 13,
   "id": "c718bb02",
   "metadata": {},
   "outputs": [
    {
     "data": {
      "text/plain": [
       "['new', 'string']"
      ]
     },
     "execution_count": 13,
     "metadata": {},
     "output_type": "execute_result"
    }
   ],
   "source": [
    "q.split()"
   ]
  },
  {
   "cell_type": "code",
   "execution_count": 14,
   "id": "339f6be0",
   "metadata": {},
   "outputs": [
    {
     "data": {
      "text/plain": [
       "'new stringnew stringnew stringnew string'"
      ]
     },
     "execution_count": 14,
     "metadata": {},
     "output_type": "execute_result"
    }
   ],
   "source": [
    "q * 4"
   ]
  },
  {
   "cell_type": "code",
   "execution_count": 15,
   "id": "038950d7",
   "metadata": {},
   "outputs": [
    {
     "data": {
      "text/plain": [
       "'new stringb'"
      ]
     },
     "execution_count": 15,
     "metadata": {},
     "output_type": "execute_result"
    }
   ],
   "source": [
    "q + 'b'"
   ]
  },
  {
   "cell_type": "code",
   "execution_count": 16,
   "id": "578f2158",
   "metadata": {},
   "outputs": [
    {
     "name": "stdout",
     "output_type": "stream",
     "text": [
      "How old are you? 16\n"
     ]
    }
   ],
   "source": [
    "ageUser = int(input(\"How old are you? \"))"
   ]
  },
  {
   "cell_type": "code",
   "execution_count": 17,
   "id": "ddf8336c",
   "metadata": {},
   "outputs": [
    {
     "data": {
      "text/plain": [
       "int"
      ]
     },
     "execution_count": 17,
     "metadata": {},
     "output_type": "execute_result"
    }
   ],
   "source": [
    "type(ageUser)"
   ]
  },
  {
   "cell_type": "code",
   "execution_count": 18,
   "id": "5b670ef6",
   "metadata": {},
   "outputs": [
    {
     "data": {
      "text/plain": [
       "10"
      ]
     },
     "execution_count": 18,
     "metadata": {},
     "output_type": "execute_result"
    }
   ],
   "source": [
    "len(q)"
   ]
  },
  {
   "cell_type": "code",
   "execution_count": 19,
   "id": "8c07fba0",
   "metadata": {},
   "outputs": [
    {
     "name": "stdout",
     "output_type": "stream",
     "text": [
      "Hello \n",
      "AI\n"
     ]
    }
   ],
   "source": [
    "print('Hello \\nAI')"
   ]
  },
  {
   "cell_type": "code",
   "execution_count": 20,
   "id": "4e00c3db",
   "metadata": {},
   "outputs": [
    {
     "name": "stdout",
     "output_type": "stream",
     "text": [
      "Hello \tAI\n"
     ]
    }
   ],
   "source": [
    "print('Hello \\tAI')"
   ]
  }
 ],
 "metadata": {
  "kernelspec": {
   "display_name": "Python 3 (ipykernel)",
   "language": "python",
   "name": "python3"
  },
  "language_info": {
   "codemirror_mode": {
    "name": "ipython",
    "version": 3
   },
   "file_extension": ".py",
   "mimetype": "text/x-python",
   "name": "python",
   "nbconvert_exporter": "python",
   "pygments_lexer": "ipython3",
   "version": "3.9.12"
  }
 },
 "nbformat": 4,
 "nbformat_minor": 5
}
