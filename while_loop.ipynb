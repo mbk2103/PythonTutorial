{
 "cells": [
  {
   "cell_type": "markdown",
   "id": "5b1cde3a",
   "metadata": {},
   "source": [
    "## While Loop"
   ]
  },
  {
   "cell_type": "code",
   "execution_count": 1,
   "id": "eea1f7d6",
   "metadata": {},
   "outputs": [],
   "source": [
    "x = 0"
   ]
  },
  {
   "cell_type": "code",
   "execution_count": 2,
   "id": "a1ce9e92",
   "metadata": {},
   "outputs": [
    {
     "name": "stdout",
     "output_type": "stream",
     "text": [
      "0\n",
      "Hi 0\n",
      "1\n",
      "Hi 1\n",
      "2\n",
      "Hi 2\n",
      "3\n",
      "Hi 3\n",
      "4\n",
      "Hi 4\n"
     ]
    }
   ],
   "source": [
    "while x < 5:\n",
    "    print(x)\n",
    "    print(\"Hi\", x)\n",
    "    x = x + 1"
   ]
  },
  {
   "cell_type": "code",
   "execution_count": 3,
   "id": "ca455bbd",
   "metadata": {},
   "outputs": [],
   "source": [
    "myList = [1, 3, 5, 7, 9]"
   ]
  },
  {
   "cell_type": "code",
   "execution_count": 4,
   "id": "56d89f97",
   "metadata": {},
   "outputs": [
    {
     "name": "stdout",
     "output_type": "stream",
     "text": [
      "7 in List\n",
      "7 in List\n"
     ]
    }
   ],
   "source": [
    "while 7 in myList:\n",
    "    print(\"7 in List\")\n",
    "    myList.pop()"
   ]
  },
  {
   "cell_type": "code",
   "execution_count": 5,
   "id": "0307e05e",
   "metadata": {},
   "outputs": [
    {
     "name": "stdout",
     "output_type": "stream",
     "text": [
      "0\n",
      "1\n",
      "2\n",
      "3\n"
     ]
    }
   ],
   "source": [
    "number = 0\n",
    "while number < 5:\n",
    "    if number ==4:\n",
    "        break\n",
    "    print(number)\n",
    "    number +=1"
   ]
  },
  {
   "cell_type": "code",
   "execution_count": 6,
   "id": "75e2d117",
   "metadata": {},
   "outputs": [
    {
     "name": "stdout",
     "output_type": "stream",
     "text": [
      "Actual new variable: 0\n",
      "Actual new variable: 1\n",
      "Actual new variable: 2\n",
      "Actual new variable: 3\n",
      "Actual new variable: 4\n",
      "Actual new variable: 5\n"
     ]
    }
   ],
   "source": [
    "new = 0\n",
    "while new < 6:\n",
    "    #print(\"Actual new variable: \" + str(new))\n",
    "    print(f\"Actual new variable: {new}\")\n",
    "    new = new + 1"
   ]
  }
 ],
 "metadata": {
  "kernelspec": {
   "display_name": "Python 3 (ipykernel)",
   "language": "python",
   "name": "python3"
  },
  "language_info": {
   "codemirror_mode": {
    "name": "ipython",
    "version": 3
   },
   "file_extension": ".py",
   "mimetype": "text/x-python",
   "name": "python",
   "nbconvert_exporter": "python",
   "pygments_lexer": "ipython3",
   "version": "3.9.12"
  }
 },
 "nbformat": 4,
 "nbformat_minor": 5
}
