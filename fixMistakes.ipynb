{
 "cells": [
  {
   "cell_type": "markdown",
   "id": "8414cde3",
   "metadata": {},
   "source": [
    "## Fix the Mistakes"
   ]
  },
  {
   "cell_type": "markdown",
   "id": "3bfb7158",
   "metadata": {},
   "source": [
    "### try & except & else & finally"
   ]
  },
  {
   "cell_type": "code",
   "execution_count": 1,
   "id": "a8c4ac15",
   "metadata": {},
   "outputs": [
    {
     "name": "stdout",
     "output_type": "stream",
     "text": [
      "Please enter your number: a\n",
      "Please enter your real number: \n",
      "Be careful! Next step\n",
      "Please enter your number: *\n",
      "Please enter your real number: \n",
      "Be careful! Next step\n",
      "Please enter your number: 1\n",
      "Thanks!\n",
      "Be careful! Next step\n"
     ]
    }
   ],
   "source": [
    "while True:\n",
    "    try:\n",
    "        user_number = int(input(\"Please enter your number: \"))\n",
    "    except:\n",
    "        print(\"Please enter your real number: \")\n",
    "        continue\n",
    "    else:\n",
    "        print(\"Thanks!\")\n",
    "        break\n",
    "    finally:\n",
    "        print(\"Be careful! Next step\")"
   ]
  }
 ],
 "metadata": {
  "kernelspec": {
   "display_name": "Python 3 (ipykernel)",
   "language": "python",
   "name": "python3"
  },
  "language_info": {
   "codemirror_mode": {
    "name": "ipython",
    "version": 3
   },
   "file_extension": ".py",
   "mimetype": "text/x-python",
   "name": "python",
   "nbconvert_exporter": "python",
   "pygments_lexer": "ipython3",
   "version": "3.9.12"
  }
 },
 "nbformat": 4,
 "nbformat_minor": 5
}
