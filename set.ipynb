{
 "cells": [
  {
   "cell_type": "markdown",
   "id": "cda74c5e",
   "metadata": {},
   "source": [
    "## Set"
   ]
  },
  {
   "cell_type": "code",
   "execution_count": 1,
   "id": "e3ef3f1e",
   "metadata": {},
   "outputs": [],
   "source": [
    "ourList = [1, 2, 3, 1, 2, 3]"
   ]
  },
  {
   "cell_type": "code",
   "execution_count": 2,
   "id": "e07c63a9",
   "metadata": {},
   "outputs": [
    {
     "data": {
      "text/plain": [
       "[1, 2, 3, 1, 2, 3]"
      ]
     },
     "execution_count": 2,
     "metadata": {},
     "output_type": "execute_result"
    }
   ],
   "source": [
    "ourList"
   ]
  },
  {
   "cell_type": "code",
   "execution_count": 3,
   "id": "33c97d2c",
   "metadata": {},
   "outputs": [],
   "source": [
    "ourListSet = set(ourList)"
   ]
  },
  {
   "cell_type": "code",
   "execution_count": 4,
   "id": "a7358003",
   "metadata": {},
   "outputs": [
    {
     "data": {
      "text/plain": [
       "list"
      ]
     },
     "execution_count": 4,
     "metadata": {},
     "output_type": "execute_result"
    }
   ],
   "source": [
    "type(ourList)"
   ]
  },
  {
   "cell_type": "code",
   "execution_count": 5,
   "id": "296f0c8f",
   "metadata": {},
   "outputs": [
    {
     "data": {
      "text/plain": [
       "set"
      ]
     },
     "execution_count": 5,
     "metadata": {},
     "output_type": "execute_result"
    }
   ],
   "source": [
    "type(ourListSet)"
   ]
  },
  {
   "cell_type": "code",
   "execution_count": 6,
   "id": "8bcafbb9",
   "metadata": {},
   "outputs": [
    {
     "data": {
      "text/plain": [
       "{1, 2, 3}"
      ]
     },
     "execution_count": 6,
     "metadata": {},
     "output_type": "execute_result"
    }
   ],
   "source": [
    "ourListSet"
   ]
  },
  {
   "cell_type": "code",
   "execution_count": 7,
   "id": "6b239354",
   "metadata": {},
   "outputs": [],
   "source": [
    "ourSet = {\"a\", 1, \"b\", \" \", 1, 2}"
   ]
  },
  {
   "cell_type": "code",
   "execution_count": 8,
   "id": "7a5beb9c",
   "metadata": {},
   "outputs": [
    {
     "data": {
      "text/plain": [
       "set"
      ]
     },
     "execution_count": 8,
     "metadata": {},
     "output_type": "execute_result"
    }
   ],
   "source": [
    "type(ourSet)"
   ]
  },
  {
   "cell_type": "code",
   "execution_count": 9,
   "id": "c8146aa5",
   "metadata": {},
   "outputs": [
    {
     "data": {
      "text/plain": [
       "{' ', 1, 2, 'a', 'b'}"
      ]
     },
     "execution_count": 9,
     "metadata": {},
     "output_type": "execute_result"
    }
   ],
   "source": [
    "ourSet"
   ]
  },
  {
   "cell_type": "code",
   "execution_count": 10,
   "id": "0b1a1b6b",
   "metadata": {},
   "outputs": [],
   "source": [
    "ourSet.add(3)"
   ]
  },
  {
   "cell_type": "code",
   "execution_count": 11,
   "id": "f707ed72",
   "metadata": {},
   "outputs": [],
   "source": [
    "ourSet.add(\"a\")"
   ]
  },
  {
   "cell_type": "code",
   "execution_count": 12,
   "id": "39b50421",
   "metadata": {},
   "outputs": [
    {
     "data": {
      "text/plain": [
       "{' ', 1, 2, 3, 'a', 'b'}"
      ]
     },
     "execution_count": 12,
     "metadata": {},
     "output_type": "execute_result"
    }
   ],
   "source": [
    "ourSet"
   ]
  },
  {
   "cell_type": "code",
   "execution_count": 13,
   "id": "cf662bfa",
   "metadata": {},
   "outputs": [],
   "source": [
    "nullSet = set()"
   ]
  },
  {
   "cell_type": "code",
   "execution_count": 14,
   "id": "9050ad43",
   "metadata": {},
   "outputs": [],
   "source": [
    "nullSet.add(5)"
   ]
  },
  {
   "cell_type": "code",
   "execution_count": 15,
   "id": "5e86e41f",
   "metadata": {},
   "outputs": [],
   "source": [
    "nullSet.add(5)"
   ]
  },
  {
   "cell_type": "code",
   "execution_count": 16,
   "id": "38b3b004",
   "metadata": {},
   "outputs": [],
   "source": [
    "nullSet.add(\",\")"
   ]
  },
  {
   "cell_type": "code",
   "execution_count": 17,
   "id": "de877686",
   "metadata": {},
   "outputs": [
    {
     "data": {
      "text/plain": [
       "{',', 5}"
      ]
     },
     "execution_count": 17,
     "metadata": {},
     "output_type": "execute_result"
    }
   ],
   "source": [
    "nullSet"
   ]
  },
  {
   "cell_type": "code",
   "execution_count": 18,
   "id": "85c724bd",
   "metadata": {},
   "outputs": [
    {
     "data": {
      "text/plain": [
       "set"
      ]
     },
     "execution_count": 18,
     "metadata": {},
     "output_type": "execute_result"
    }
   ],
   "source": [
    "type(nullSet)"
   ]
  }
 ],
 "metadata": {
  "kernelspec": {
   "display_name": "Python 3 (ipykernel)",
   "language": "python",
   "name": "python3"
  },
  "language_info": {
   "codemirror_mode": {
    "name": "ipython",
    "version": 3
   },
   "file_extension": ".py",
   "mimetype": "text/x-python",
   "name": "python",
   "nbconvert_exporter": "python",
   "pygments_lexer": "ipython3",
   "version": "3.9.12"
  }
 },
 "nbformat": 4,
 "nbformat_minor": 5
}
