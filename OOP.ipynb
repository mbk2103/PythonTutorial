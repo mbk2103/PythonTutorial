{
 "cells": [
  {
   "cell_type": "markdown",
   "id": "58f761b3",
   "metadata": {},
   "source": [
    "## Object Oriented Programming"
   ]
  },
  {
   "cell_type": "code",
   "execution_count": 1,
   "id": "33fc210d",
   "metadata": {},
   "outputs": [],
   "source": [
    "myList = list()"
   ]
  },
  {
   "cell_type": "code",
   "execution_count": 2,
   "id": "edaf1564",
   "metadata": {},
   "outputs": [
    {
     "data": {
      "text/plain": [
       "list"
      ]
     },
     "execution_count": 2,
     "metadata": {},
     "output_type": "execute_result"
    }
   ],
   "source": [
    "type(myList) # an example for classes"
   ]
  },
  {
   "cell_type": "markdown",
   "id": "59d1ddcf",
   "metadata": {},
   "source": [
    "### instance & attribute"
   ]
  },
  {
   "cell_type": "code",
   "execution_count": 3,
   "id": "25a66340",
   "metadata": {},
   "outputs": [],
   "source": [
    "class IntroduceYourHero():\n",
    "    def __init__(self):\n",
    "        print(\"init is called\")"
   ]
  },
  {
   "cell_type": "code",
   "execution_count": 4,
   "id": "42c0e6ae",
   "metadata": {},
   "outputs": [
    {
     "name": "stdout",
     "output_type": "stream",
     "text": [
      "init is called\n"
     ]
    }
   ],
   "source": [
    "hero = IntroduceYourHero()"
   ]
  },
  {
   "cell_type": "code",
   "execution_count": 5,
   "id": "0b2e1ec4",
   "metadata": {},
   "outputs": [],
   "source": [
    "class IntroduceYourHero():\n",
    "    def __init__(self, name, age, job):\n",
    "        print(\"\")\n",
    "        self.name = name\n",
    "        self.age = age\n",
    "        self.job = job\n",
    "    def method1(self):\n",
    "        print(f\"I am hero and my professional is {self.job}\")"
   ]
  },
  {
   "cell_type": "code",
   "execution_count": 6,
   "id": "b3ec922f",
   "metadata": {},
   "outputs": [
    {
     "name": "stdout",
     "output_type": "stream",
     "text": [
      "\n"
     ]
    }
   ],
   "source": [
    "superman = IntroduceYourHero(\"Superman\", 30, \"Journalist\")"
   ]
  },
  {
   "cell_type": "code",
   "execution_count": 7,
   "id": "9ca5bd30",
   "metadata": {},
   "outputs": [
    {
     "data": {
      "text/plain": [
       "'Journalist'"
      ]
     },
     "execution_count": 7,
     "metadata": {},
     "output_type": "execute_result"
    }
   ],
   "source": [
    "superman.job"
   ]
  },
  {
   "cell_type": "code",
   "execution_count": 8,
   "id": "ec356520",
   "metadata": {},
   "outputs": [
    {
     "name": "stdout",
     "output_type": "stream",
     "text": [
      "I am hero and my professional is Journalist\n"
     ]
    }
   ],
   "source": [
    "superman.method1()"
   ]
  },
  {
   "cell_type": "code",
   "execution_count": 9,
   "id": "dc6d2f0e",
   "metadata": {},
   "outputs": [],
   "source": [
    "class Dog():\n",
    "    def __init__(self, age = 0):\n",
    "        self.age = age"
   ]
  },
  {
   "cell_type": "code",
   "execution_count": 10,
   "id": "94f10cdf",
   "metadata": {},
   "outputs": [],
   "source": [
    "myDog = Dog()"
   ]
  },
  {
   "cell_type": "code",
   "execution_count": 11,
   "id": "e8503716",
   "metadata": {},
   "outputs": [
    {
     "data": {
      "text/plain": [
       "0"
      ]
     },
     "execution_count": 11,
     "metadata": {},
     "output_type": "execute_result"
    }
   ],
   "source": [
    "myDog.age"
   ]
  },
  {
   "cell_type": "code",
   "execution_count": 12,
   "id": "e111a4dc",
   "metadata": {},
   "outputs": [],
   "source": [
    "myDog = Dog(7)"
   ]
  },
  {
   "cell_type": "code",
   "execution_count": 13,
   "id": "f314326a",
   "metadata": {},
   "outputs": [
    {
     "data": {
      "text/plain": [
       "7"
      ]
     },
     "execution_count": 13,
     "metadata": {},
     "output_type": "execute_result"
    }
   ],
   "source": [
    "myDog.age"
   ]
  },
  {
   "cell_type": "code",
   "execution_count": 14,
   "id": "59525100",
   "metadata": {},
   "outputs": [],
   "source": [
    "class HumanDogAge():\n",
    "    yearMultiplier = 7\n",
    "    def __init__(self, age = 0):\n",
    "        self.age = age\n",
    "    def HumanAgeCalculate(self):\n",
    "        return self.age * self.yearMultiplier"
   ]
  },
  {
   "cell_type": "code",
   "execution_count": 15,
   "id": "85aac0ed",
   "metadata": {},
   "outputs": [],
   "source": [
    "ourDog = HumanDogAge(3)"
   ]
  },
  {
   "cell_type": "code",
   "execution_count": 16,
   "id": "8d915d54",
   "metadata": {},
   "outputs": [
    {
     "data": {
      "text/plain": [
       "<bound method HumanDogAge.HumanAgeCalculate of <__main__.HumanDogAge object at 0x00000228A3F2D8E0>>"
      ]
     },
     "execution_count": 16,
     "metadata": {},
     "output_type": "execute_result"
    }
   ],
   "source": [
    "ourDog.HumanAgeCalculate"
   ]
  },
  {
   "cell_type": "code",
   "execution_count": 17,
   "id": "8e654127",
   "metadata": {},
   "outputs": [
    {
     "data": {
      "text/plain": [
       "21"
      ]
     },
     "execution_count": 17,
     "metadata": {},
     "output_type": "execute_result"
    }
   ],
   "source": [
    "ourDog.HumanAgeCalculate()"
   ]
  },
  {
   "cell_type": "code",
   "execution_count": 18,
   "id": "fc55e42d",
   "metadata": {},
   "outputs": [],
   "source": [
    "class HumanDogAge2():\n",
    "    yearMultiplier = 7\n",
    "    def __init__(self, age = 0):\n",
    "        self.age = age\n",
    "    def HumanAgeCalculate2(self):\n",
    "        return self.age * HumanDogAge2.yearMultiplier"
   ]
  },
  {
   "cell_type": "code",
   "execution_count": 19,
   "id": "a102cbcc",
   "metadata": {},
   "outputs": [],
   "source": [
    "yourDog = HumanDogAge2(8)"
   ]
  },
  {
   "cell_type": "code",
   "execution_count": 20,
   "id": "84811e64",
   "metadata": {},
   "outputs": [
    {
     "data": {
      "text/plain": [
       "56"
      ]
     },
     "execution_count": 20,
     "metadata": {},
     "output_type": "execute_result"
    }
   ],
   "source": [
    "yourDog.HumanAgeCalculate2()"
   ]
  },
  {
   "cell_type": "code",
   "execution_count": 21,
   "id": "ac844be4",
   "metadata": {},
   "outputs": [],
   "source": [
    "class HumanDogAge3():\n",
    "    yearMultiplier = 7\n",
    "    def __init__(self, age = 0):\n",
    "        self.age = age\n",
    "        self.calculatedhumanage = age *7\n",
    "    def HumanAgeCalculate3(self):\n",
    "        return self.age * HumanDogAge2.yearMultiplier"
   ]
  },
  {
   "cell_type": "code",
   "execution_count": 22,
   "id": "56cfc4d6",
   "metadata": {},
   "outputs": [],
   "source": [
    "herDog = HumanDogAge3(1)"
   ]
  },
  {
   "cell_type": "code",
   "execution_count": 23,
   "id": "0b390db2",
   "metadata": {},
   "outputs": [
    {
     "data": {
      "text/plain": [
       "7"
      ]
     },
     "execution_count": 23,
     "metadata": {},
     "output_type": "execute_result"
    }
   ],
   "source": [
    "herDog.calculatedhumanage"
   ]
  },
  {
   "cell_type": "markdown",
   "id": "0b4c0ea7",
   "metadata": {},
   "source": [
    "### inheritance"
   ]
  },
  {
   "cell_type": "code",
   "execution_count": 24,
   "id": "727ffd1f",
   "metadata": {},
   "outputs": [],
   "source": [
    "class Animal():\n",
    "    def __init__(self):\n",
    "        print(\"Animal class is called\")\n",
    "    def method5(self):\n",
    "        print(\"Animal class method5 is called\")\n",
    "    def method9(self):\n",
    "        print(\"Animal class method9 is called\")"
   ]
  },
  {
   "cell_type": "code",
   "execution_count": 25,
   "id": "d9fcc27f",
   "metadata": {},
   "outputs": [
    {
     "name": "stdout",
     "output_type": "stream",
     "text": [
      "Animal class is called\n"
     ]
    }
   ],
   "source": [
    "myAnimal = Animal()"
   ]
  },
  {
   "cell_type": "code",
   "execution_count": 26,
   "id": "069a1a8b",
   "metadata": {},
   "outputs": [
    {
     "name": "stdout",
     "output_type": "stream",
     "text": [
      "Animal class method5 is called\n"
     ]
    }
   ],
   "source": [
    "myAnimal.method5()"
   ]
  },
  {
   "cell_type": "code",
   "execution_count": 27,
   "id": "d7e99381",
   "metadata": {},
   "outputs": [
    {
     "name": "stdout",
     "output_type": "stream",
     "text": [
      "Animal class method9 is called\n"
     ]
    }
   ],
   "source": [
    "myAnimal.method9()"
   ]
  },
  {
   "cell_type": "code",
   "execution_count": 28,
   "id": "d5a24256",
   "metadata": {},
   "outputs": [],
   "source": [
    "# Cat is an animal\n",
    "class Cat(Animal):\n",
    "    def __init__(self):\n",
    "        Animal.__init__(self)\n",
    "        print(\"init of Cat class is called\")\n",
    "    def method5(self):\n",
    "        print(\"This method is method 5 from Cat class\")"
   ]
  },
  {
   "cell_type": "code",
   "execution_count": 29,
   "id": "a8871c22",
   "metadata": {},
   "outputs": [
    {
     "name": "stdout",
     "output_type": "stream",
     "text": [
      "Animal class is called\n",
      "init of Cat class is called\n"
     ]
    }
   ],
   "source": [
    "myCat = Cat()"
   ]
  },
  {
   "cell_type": "code",
   "execution_count": 30,
   "id": "60a39319",
   "metadata": {},
   "outputs": [
    {
     "name": "stdout",
     "output_type": "stream",
     "text": [
      "This method is method 5 from Cat class\n"
     ]
    }
   ],
   "source": [
    "myCat.method5()"
   ]
  },
  {
   "cell_type": "code",
   "execution_count": 31,
   "id": "2f3469c0",
   "metadata": {},
   "outputs": [
    {
     "name": "stdout",
     "output_type": "stream",
     "text": [
      "Animal class is called\n"
     ]
    }
   ],
   "source": [
    "other = Animal()"
   ]
  },
  {
   "cell_type": "code",
   "execution_count": 32,
   "id": "575e06f7",
   "metadata": {},
   "outputs": [
    {
     "name": "stdout",
     "output_type": "stream",
     "text": [
      "Animal class method5 is called\n"
     ]
    }
   ],
   "source": [
    "other.method5()"
   ]
  },
  {
   "cell_type": "markdown",
   "id": "ab7e814f",
   "metadata": {},
   "source": [
    "### Polymorphism"
   ]
  },
  {
   "cell_type": "code",
   "execution_count": 33,
   "id": "1add5f42",
   "metadata": {},
   "outputs": [],
   "source": [
    "class Apple():\n",
    "    def __init__(self, name):\n",
    "        self.name = name\n",
    "    def giveInfo(self):\n",
    "        return self.name + \": 150 kcal\""
   ]
  },
  {
   "cell_type": "code",
   "execution_count": 34,
   "id": "dbd66bc9",
   "metadata": {},
   "outputs": [],
   "source": [
    "apple = Apple(\"apple\")"
   ]
  },
  {
   "cell_type": "code",
   "execution_count": 35,
   "id": "1ba83054",
   "metadata": {},
   "outputs": [
    {
     "data": {
      "text/plain": [
       "'apple: 150 kcal'"
      ]
     },
     "execution_count": 35,
     "metadata": {},
     "output_type": "execute_result"
    }
   ],
   "source": [
    "apple.giveInfo()"
   ]
  },
  {
   "cell_type": "code",
   "execution_count": 36,
   "id": "398e847c",
   "metadata": {},
   "outputs": [],
   "source": [
    "class Banana():\n",
    "    def __init__(self, name):\n",
    "        self.name = name\n",
    "    def giveInfo(self):\n",
    "        return self.name + \": 300 kcal\""
   ]
  },
  {
   "cell_type": "code",
   "execution_count": 37,
   "id": "5aec4d19",
   "metadata": {},
   "outputs": [],
   "source": [
    "banana = Banana(\"banana\")"
   ]
  },
  {
   "cell_type": "code",
   "execution_count": 38,
   "id": "d0372ef2",
   "metadata": {},
   "outputs": [
    {
     "data": {
      "text/plain": [
       "'banana: 300 kcal'"
      ]
     },
     "execution_count": 38,
     "metadata": {},
     "output_type": "execute_result"
    }
   ],
   "source": [
    "banana.giveInfo()"
   ]
  },
  {
   "cell_type": "code",
   "execution_count": 39,
   "id": "ebc0fc3c",
   "metadata": {},
   "outputs": [],
   "source": [
    "fruitList = [apple, banana]"
   ]
  },
  {
   "cell_type": "code",
   "execution_count": 40,
   "id": "11305b63",
   "metadata": {},
   "outputs": [
    {
     "name": "stdout",
     "output_type": "stream",
     "text": [
      "apple: 150 kcal\n",
      "banana: 300 kcal\n"
     ]
    }
   ],
   "source": [
    "for fruit in fruitList:\n",
    "    print(fruit.giveInfo())"
   ]
  },
  {
   "cell_type": "code",
   "execution_count": 41,
   "id": "bc4dd99b",
   "metadata": {},
   "outputs": [],
   "source": [
    "def takeInfo(fruit):\n",
    "    print(fruit.giveInfo())"
   ]
  },
  {
   "cell_type": "code",
   "execution_count": 42,
   "id": "476bb756",
   "metadata": {},
   "outputs": [
    {
     "name": "stdout",
     "output_type": "stream",
     "text": [
      "banana: 300 kcal\n"
     ]
    }
   ],
   "source": [
    "takeInfo(banana)"
   ]
  },
  {
   "cell_type": "code",
   "execution_count": 43,
   "id": "e1d073f9",
   "metadata": {},
   "outputs": [
    {
     "name": "stdout",
     "output_type": "stream",
     "text": [
      "apple: 150 kcal\n"
     ]
    }
   ],
   "source": [
    "takeInfo(apple)"
   ]
  }
 ],
 "metadata": {
  "kernelspec": {
   "display_name": "Python 3 (ipykernel)",
   "language": "python",
   "name": "python3"
  },
  "language_info": {
   "codemirror_mode": {
    "name": "ipython",
    "version": 3
   },
   "file_extension": ".py",
   "mimetype": "text/x-python",
   "name": "python",
   "nbconvert_exporter": "python",
   "pygments_lexer": "ipython3",
   "version": "3.9.12"
  }
 },
 "nbformat": 4,
 "nbformat_minor": 5
}
