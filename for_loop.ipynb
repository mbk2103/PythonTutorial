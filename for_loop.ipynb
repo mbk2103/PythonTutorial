{
 "cells": [
  {
   "cell_type": "markdown",
   "id": "6c16224d",
   "metadata": {},
   "source": [
    "## For Loop"
   ]
  },
  {
   "cell_type": "code",
   "execution_count": 1,
   "id": "59ab27f7",
   "metadata": {},
   "outputs": [],
   "source": [
    "listfor = [1, 5, 8, 3, 7]"
   ]
  },
  {
   "cell_type": "code",
   "execution_count": 2,
   "id": "f4f4817a",
   "metadata": {},
   "outputs": [
    {
     "name": "stdout",
     "output_type": "stream",
     "text": [
      "Yes\n"
     ]
    }
   ],
   "source": [
    "if 1 in listfor:\n",
    "    print(\"Yes\")"
   ]
  },
  {
   "cell_type": "code",
   "execution_count": 3,
   "id": "8fb3f7ec",
   "metadata": {},
   "outputs": [
    {
     "name": "stdout",
     "output_type": "stream",
     "text": [
      "Loop started\n",
      "1\n",
      "5\n",
      "8\n",
      "3\n",
      "7\n",
      "Loop finished\n"
     ]
    }
   ],
   "source": [
    "print(\"Loop started\")\n",
    "for number in listfor:\n",
    "    print(number)\n",
    "print(\"Loop finished\")"
   ]
  },
  {
   "cell_type": "code",
   "execution_count": 4,
   "id": "39efdf80",
   "metadata": {},
   "outputs": [
    {
     "data": {
      "text/plain": [
       "[10, 50, 80, 30, 70]"
      ]
     },
     "execution_count": 4,
     "metadata": {},
     "output_type": "execute_result"
    }
   ],
   "source": [
    "newList = []\n",
    "for num in listfor:\n",
    "    newnum = num *10\n",
    "    newList.append(newnum)\n",
    "    \n",
    "newList"
   ]
  },
  {
   "cell_type": "code",
   "execution_count": 5,
   "id": "9b8d5aa1",
   "metadata": {},
   "outputs": [
    {
     "name": "stdout",
     "output_type": "stream",
     "text": [
      "1 : odd\n",
      "5 : odd\n",
      "8 : even\n",
      "3 : odd\n",
      "7 : odd\n"
     ]
    }
   ],
   "source": [
    "for num in listfor:\n",
    "    if num % 2 == 0:\n",
    "        print(num, \": even\")\n",
    "    else:\n",
    "        print(num, \": odd\")"
   ]
  },
  {
   "cell_type": "code",
   "execution_count": 6,
   "id": "813e69be",
   "metadata": {},
   "outputs": [
    {
     "name": "stdout",
     "output_type": "stream",
     "text": [
      "1 - 2.5\n",
      "2 - 3.1\n"
     ]
    }
   ],
   "source": [
    "tuplelist = [(1, 2.5), (2, 3.1)]\n",
    "for (x, y) in tuplelist:\n",
    "    print(x, \"-\", y)"
   ]
  },
  {
   "cell_type": "code",
   "execution_count": 7,
   "id": "124ce7b3",
   "metadata": {},
   "outputs": [
    {
     "name": "stdout",
     "output_type": "stream",
     "text": [
      "a\n",
      "b\n"
     ]
    }
   ],
   "source": [
    "dict0 = {\"a\": 3, \"b\": 5}\n",
    "for (key, value) in dict0.items():\n",
    "    print(key)"
   ]
  }
 ],
 "metadata": {
  "kernelspec": {
   "display_name": "Python 3 (ipykernel)",
   "language": "python",
   "name": "python3"
  },
  "language_info": {
   "codemirror_mode": {
    "name": "ipython",
    "version": 3
   },
   "file_extension": ".py",
   "mimetype": "text/x-python",
   "name": "python",
   "nbconvert_exporter": "python",
   "pygments_lexer": "ipython3",
   "version": "3.9.12"
  }
 },
 "nbformat": 4,
 "nbformat_minor": 5
}
